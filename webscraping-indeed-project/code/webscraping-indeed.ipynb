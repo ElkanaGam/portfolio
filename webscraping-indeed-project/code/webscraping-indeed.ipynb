{
 "cells": [
  {
   "cell_type": "markdown",
   "metadata": {
    "focus": false,
    "id": "69b9a648-bcc7-490d-9f9b-ea244d156bd6"
   },
   "source": [
    "# Web Scraping for Indeed.com & Predicting Salaries"
   ]
  },
  {
   "cell_type": "markdown",
   "metadata": {
    "focus": false,
    "id": "34681254-c802-462f-829d-8894d0772d08"
   },
   "source": [
    "This project, is a test of three major skills: collecting data by scraping a website, using natural language processing, and then building a binary classifier.\n",
    "\n",
    "I collected salary information on data science jobs in a variety of markets. Then using the location, title, and summary of the job I attempted to predict the salary of the job. For job posting sites, this would be extraordinarily useful. While most listings DO NOT come with salary information, being to able extrapolate or predict the expected salaries from other listings can useful.\n",
    "\n",
    "Normally, regression could be used for a task like this; however, since there is a fair amount of natural variance in job salaries, I approached this as a classification problem and used a random forest classifier.\n",
    "\n",
    "Therefore, the first part of the project was focused on scraping Indeed.com. The latter part of the project was focused on using natural language processing and building models using job postings with salary information to predict salaries."
   ]
  },
  {
   "cell_type": "markdown",
   "metadata": {
    "focus": false,
    "id": "a948d79c-5527-4c0d-ab23-f5d43ce72056"
   },
   "source": [
    "## Scraping job listings from Indeed.com"
   ]
  },
  {
   "cell_type": "code",
   "execution_count": 1,
   "metadata": {
    "collapsed": true
   },
   "outputs": [],
   "source": [
    "import requests\n",
    "import bs4\n",
    "from bs4 import BeautifulSoup"
   ]
  },
  {
   "cell_type": "markdown",
   "metadata": {},
   "source": [
    "### Building functions to extract each item: location, company, job, summary, and salary.\n",
    "\n",
    "These functions must be able to handle cases where the data/field may not be available."
   ]
  },
  {
   "cell_type": "code",
   "execution_count": 60,
   "metadata": {
    "collapsed": true
   },
   "outputs": [],
   "source": [
    "def get_loc(result):\n",
    "    try:\n",
    "        return result.find('span', {'class':'location'}).text\n",
    "    except:\n",
    "        return 'NA'"
   ]
  },
  {
   "cell_type": "code",
   "execution_count": 61,
   "metadata": {
    "collapsed": true
   },
   "outputs": [],
   "source": [
    "def get_comp(result):\n",
    "    try:\n",
    "        return result.find('span', {'class':'company'}).text\n",
    "    except:\n",
    "        return 'NA'"
   ]
  },
  {
   "cell_type": "code",
   "execution_count": 62,
   "metadata": {
    "collapsed": true
   },
   "outputs": [],
   "source": [
    "def get_job(result):\n",
    "    try:\n",
    "        return result.find('a', {'data-tn-element':'jobTitle'}).text\n",
    "    except:\n",
    "        return 'NA'"
   ]
  },
  {
   "cell_type": "code",
   "execution_count": 63,
   "metadata": {},
   "outputs": [],
   "source": [
    "def get_sal(result):\n",
    "    try:\n",
    "        return result.find('td', {'class':'snip'}).find('nobr').text\n",
    "    except:\n",
    "        return 'NA'"
   ]
  },
  {
   "cell_type": "code",
   "execution_count": 68,
   "metadata": {
    "collapsed": true
   },
   "outputs": [],
   "source": [
    "def get_desc(result):\n",
    "    try:\n",
    "        return result.find('span', {'class':'summary'}).text\n",
    "    except:\n",
    "        return 'NA'"
   ]
  },
  {
   "cell_type": "markdown",
   "metadata": {},
   "source": [
    "Now, to scale up our scraping, we need to accumulate more results. We can do this by examining the URL above.\n",
    "- \"https://www.indeed.com/jobs?q=data+scientist&l=Washington+DC&limit=50&radius=25&start=0&pp=ADIAAAFbp-95iAAAAAEMMobjAQEBD3MzvjaRN_DEggu9hUHO3jOZTkJ2Z7SvcZJ1pEgnRjAhqUC21q96H2LZRAEACYLb_gg9TZj-Uiq9LmLnHRNRQqKGAQPQktPTwy4n4Swd39sFFyyDrS9wQYcfRpSo64YDtw\"\n",
    "\n",
    "There are three query parameters here we can alter to collect more results, the l=NWashington+DC, the limit=50, and the start=0. The first controls the location of the results (so we can try a different city). The second controls how many results are displayed per page. The third controls where in the results to start."
   ]
  },
  {
   "cell_type": "code",
   "execution_count": 64,
   "metadata": {
    "collapsed": true
   },
   "outputs": [],
   "source": [
    "from time import sleep"
   ]
  },
  {
   "cell_type": "code",
   "execution_count": 2,
   "metadata": {
    "collapsed": true
   },
   "outputs": [],
   "source": [
    "import pandas as pd\n",
    "import numpy as np"
   ]
  },
  {
   "cell_type": "code",
   "execution_count": 413,
   "metadata": {},
   "outputs": [
    {
     "data": {
      "text/plain": [
       "30"
      ]
     },
     "execution_count": 413,
     "metadata": {},
     "output_type": "execute_result"
    }
   ],
   "source": [
    "indeed_cities = ['New+York', 'Chicago', 'San+Francisco', 'San+Jose', 'San+Diego', 'Los+Angeles', 'Washington%2C+DC',\n",
    "          'Boston', 'Pittsburgh', 'Philadelphia', 'Atlanta', 'Cincinnati', 'St.+Louis', 'Tampa', 'Oakland',\n",
    "          'Austin', 'Houston', 'Dallas', 'Seattle', 'Portland', 'Denver', 'Phoenix', 'Minneapolis', 'Miami',\n",
    "          'Charlotte', 'Jacksonville', 'Indianapolis', 'Nashville', 'Kansas+City', 'Columbus']\n",
    "len(indeed_cities)"
   ]
  },
  {
   "cell_type": "code",
   "execution_count": 415,
   "metadata": {},
   "outputs": [],
   "source": [
    "# loops through each city in the indeed_cities list, and loops through each page with search results for that city\n",
    "# 100 results per page, 10 pages per city --> 1000 job postings per city\n",
    "# each time this cell is run the results list resets aka is empty (note this does not affect my dataframe)\n",
    "# each job posting is appended to the results list (as html text)\n",
    "# use append method, rather than list comprehension so data isn't overwritten\n",
    "# sleep 1 sec between each url request\n",
    "\n",
    "max_results_per_city = 1000\n",
    "\n",
    "results = []\n",
    "\n",
    "for city in indeed_cities:\n",
    "    for start in range(0, max_results_per_city, 100):\n",
    "        url = \"https://www.indeed.com/jobs?as_and=data+scientist&as_phr=&as_any=&as_not=&as_ttl=&as_cmp=&jt=all&st=\\\n",
    "               &salary=&radius=25&l=\" + city + \"&fromage=any&limit=100&start=\" + str(start) + \"&sort=&psf=advsrch\"\n",
    "        html = requests.get(url)\n",
    "        soup = BeautifulSoup(html.text, 'html.parser')\n",
    "        for result in soup.find_all('div', {'class':' row result'}):\n",
    "            results.append(result)\n",
    "        sleep(1)"
   ]
  },
  {
   "cell_type": "markdown",
   "metadata": {
    "focus": false,
    "id": "20339c09-5032-4e27-91be-286e9b46cd13"
   },
   "source": [
    "#### Use the functions to parse out the 5 fields - location, title, company, summary, and salary. Create a dataframe from the results with those 5 columns."
   ]
  },
  {
   "cell_type": "code",
   "execution_count": 70,
   "metadata": {
    "collapsed": true
   },
   "outputs": [],
   "source": [
    "jobs0 = pd.DataFrame(columns=['location', 'title', 'company', 'salary', 'summary'])"
   ]
  },
  {
   "cell_type": "code",
   "execution_count": 71,
   "metadata": {
    "collapsed": true
   },
   "outputs": [],
   "source": [
    "for entry in results:\n",
    "    location = get_loc(entry)\n",
    "    title = get_job(entry)\n",
    "    company = get_comp(entry)\n",
    "    salary = get_sal(entry)\n",
    "    desc = get_desc(entry)\n",
    "    jobs0.loc[len(jobs0)] = [location, title, company, salary, desc]"
   ]
  },
  {
   "cell_type": "code",
   "execution_count": 133,
   "metadata": {
    "scrolled": false
   },
   "outputs": [
    {
     "data": {
      "text/html": [
       "<div>\n",
       "<table border=\"1\" class=\"dataframe\">\n",
       "  <thead>\n",
       "    <tr style=\"text-align: right;\">\n",
       "      <th></th>\n",
       "      <th>location</th>\n",
       "      <th>title</th>\n",
       "      <th>company</th>\n",
       "      <th>salary</th>\n",
       "      <th>summary</th>\n",
       "    </tr>\n",
       "  </thead>\n",
       "  <tbody>\n",
       "    <tr>\n",
       "      <th>0</th>\n",
       "      <td>New York, NY</td>\n",
       "      <td>Data Scientist</td>\n",
       "      <td>NBA</td>\n",
       "      <td>NA</td>\n",
       "      <td>The primary focus for this fast paced and coll...</td>\n",
       "    </tr>\n",
       "    <tr>\n",
       "      <th>1</th>\n",
       "      <td>New York, NY 10018 (Clinton area)</td>\n",
       "      <td>Data Scientist</td>\n",
       "      <td>JW Player</td>\n",
       "      <td>NA</td>\n",
       "      <td>Provide expertise on machine learning concepts...</td>\n",
       "    </tr>\n",
       "    <tr>\n",
       "      <th>2</th>\n",
       "      <td>New York, NY</td>\n",
       "      <td>Data Scientist</td>\n",
       "      <td>Movable Ink</td>\n",
       "      <td>NA</td>\n",
       "      <td>As a Data Scientist at Movable Ink, you’ll be ...</td>\n",
       "    </tr>\n",
       "    <tr>\n",
       "      <th>3</th>\n",
       "      <td>New York, NY 10016 (Gramercy area)</td>\n",
       "      <td>Data Scientist</td>\n",
       "      <td>Simulmedia</td>\n",
       "      <td>NA</td>\n",
       "      <td>You will find yourself working with other data...</td>\n",
       "    </tr>\n",
       "    <tr>\n",
       "      <th>4</th>\n",
       "      <td>New York, NY</td>\n",
       "      <td>Data Scientists</td>\n",
       "      <td>FXcompared</td>\n",
       "      <td>NA</td>\n",
       "      <td>We are looking for full-time Data Scientists t...</td>\n",
       "    </tr>\n",
       "    <tr>\n",
       "      <th>5</th>\n",
       "      <td>New York, NY</td>\n",
       "      <td>Data Scientist</td>\n",
       "      <td>HarperCollins Publishers Inc.</td>\n",
       "      <td>NA</td>\n",
       "      <td>Uses mid to large-scale machine learning, data...</td>\n",
       "    </tr>\n",
       "    <tr>\n",
       "      <th>6</th>\n",
       "      <td>New York, NY 10261 (Murray Hill area)</td>\n",
       "      <td>Data Scientist</td>\n",
       "      <td>MassMutual Financial Group</td>\n",
       "      <td>NA</td>\n",
       "      <td>MassMutual’s Advanced Analytics group is seeki...</td>\n",
       "    </tr>\n",
       "    <tr>\n",
       "      <th>7</th>\n",
       "      <td>New York, NY</td>\n",
       "      <td>Data Scientist</td>\n",
       "      <td>PulsePoint</td>\n",
       "      <td>NA</td>\n",
       "      <td>MS/PhD in Astronomy, Physics, Applied Mathemat...</td>\n",
       "    </tr>\n",
       "    <tr>\n",
       "      <th>8</th>\n",
       "      <td>New York, NY</td>\n",
       "      <td>Data Science Analyst</td>\n",
       "      <td>AIG</td>\n",
       "      <td>NA</td>\n",
       "      <td>§ Stay current on the latest machine learning ...</td>\n",
       "    </tr>\n",
       "    <tr>\n",
       "      <th>9</th>\n",
       "      <td>New York, NY</td>\n",
       "      <td>Data Scientist/ Modeler</td>\n",
       "      <td>Nucleus Marketing</td>\n",
       "      <td>NA</td>\n",
       "      <td>You have a Master’s Degree in operations resea...</td>\n",
       "    </tr>\n",
       "    <tr>\n",
       "      <th>10</th>\n",
       "      <td>New York, NY</td>\n",
       "      <td>Data Scientist</td>\n",
       "      <td>Oliver James Associates</td>\n",
       "      <td>$160,000 a year</td>\n",
       "      <td>Integrate and mine large data sets, connecting...</td>\n",
       "    </tr>\n",
       "    <tr>\n",
       "      <th>11</th>\n",
       "      <td>New York, NY</td>\n",
       "      <td>Machine Learning/Deep Learning Engineer</td>\n",
       "      <td>SKIP</td>\n",
       "      <td>NA</td>\n",
       "      <td>Experience across a wide variety of deep learn...</td>\n",
       "    </tr>\n",
       "    <tr>\n",
       "      <th>12</th>\n",
       "      <td>New York, NY</td>\n",
       "      <td>Data &amp; Applied Scientist</td>\n",
       "      <td>Microsoft</td>\n",
       "      <td>NA</td>\n",
       "      <td>Our partners are building amazing applications...</td>\n",
       "    </tr>\n",
       "    <tr>\n",
       "      <th>13</th>\n",
       "      <td>New York, NY 10005 (Financial District area)</td>\n",
       "      <td>Data Scientist</td>\n",
       "      <td>Celmatix</td>\n",
       "      <td>NA</td>\n",
       "      <td>We seek a Data Scientist with deep expertise w...</td>\n",
       "    </tr>\n",
       "    <tr>\n",
       "      <th>14</th>\n",
       "      <td>New York, NY 10003 (Greenwich Village area)</td>\n",
       "      <td>Senior Data Scientist</td>\n",
       "      <td>Verizon</td>\n",
       "      <td>NA</td>\n",
       "      <td>Bachelor’s/ Master’s Degree in Statistics, Mat...</td>\n",
       "    </tr>\n",
       "    <tr>\n",
       "      <th>15</th>\n",
       "      <td>New York, NY</td>\n",
       "      <td>Machine Learning</td>\n",
       "      <td>Twitter</td>\n",
       "      <td>NA</td>\n",
       "      <td>Cortex is a team of software engineers, data s...</td>\n",
       "    </tr>\n",
       "    <tr>\n",
       "      <th>16</th>\n",
       "      <td>New York, NY</td>\n",
       "      <td>Data Scientist</td>\n",
       "      <td>nuvento</td>\n",
       "      <td>NA</td>\n",
       "      <td>Advanced degree in Applied Mathematics, Busine...</td>\n",
       "    </tr>\n",
       "    <tr>\n",
       "      <th>17</th>\n",
       "      <td>New York, NY</td>\n",
       "      <td>Data Scientist</td>\n",
       "      <td>Bonobos</td>\n",
       "      <td>NA</td>\n",
       "      <td>Have a strong understanding of statistics, alg...</td>\n",
       "    </tr>\n",
       "    <tr>\n",
       "      <th>18</th>\n",
       "      <td>New York, NY</td>\n",
       "      <td>Data Scientist</td>\n",
       "      <td>indify</td>\n",
       "      <td>$90,000 - $170,000 a year</td>\n",
       "      <td>Indify data scientists contribute to all aspec...</td>\n",
       "    </tr>\n",
       "    <tr>\n",
       "      <th>19</th>\n",
       "      <td>New York, NY</td>\n",
       "      <td>Data Scientist</td>\n",
       "      <td>WebMD</td>\n",
       "      <td>NA</td>\n",
       "      <td>Medscape, a division of WebMD, develops and ho...</td>\n",
       "    </tr>\n",
       "  </tbody>\n",
       "</table>\n",
       "</div>"
      ],
      "text/plain": [
       "                                        location  \\\n",
       "0                                   New York, NY   \n",
       "1              New York, NY 10018 (Clinton area)   \n",
       "2                                   New York, NY   \n",
       "3             New York, NY 10016 (Gramercy area)   \n",
       "4                                   New York, NY   \n",
       "5                                   New York, NY   \n",
       "6          New York, NY 10261 (Murray Hill area)   \n",
       "7                                   New York, NY   \n",
       "8                                   New York, NY   \n",
       "9                                   New York, NY   \n",
       "10                                  New York, NY   \n",
       "11                                  New York, NY   \n",
       "12                                  New York, NY   \n",
       "13  New York, NY 10005 (Financial District area)   \n",
       "14   New York, NY 10003 (Greenwich Village area)   \n",
       "15                                  New York, NY   \n",
       "16                                  New York, NY   \n",
       "17                                  New York, NY   \n",
       "18                                  New York, NY   \n",
       "19                                  New York, NY   \n",
       "\n",
       "                                      title  \\\n",
       "0                            Data Scientist   \n",
       "1                            Data Scientist   \n",
       "2                            Data Scientist   \n",
       "3                            Data Scientist   \n",
       "4                           Data Scientists   \n",
       "5                            Data Scientist   \n",
       "6                            Data Scientist   \n",
       "7                            Data Scientist   \n",
       "8                      Data Science Analyst   \n",
       "9                   Data Scientist/ Modeler   \n",
       "10                           Data Scientist   \n",
       "11  Machine Learning/Deep Learning Engineer   \n",
       "12                 Data & Applied Scientist   \n",
       "13                           Data Scientist   \n",
       "14                    Senior Data Scientist   \n",
       "15                         Machine Learning   \n",
       "16                           Data Scientist   \n",
       "17                           Data Scientist   \n",
       "18                           Data Scientist   \n",
       "19                           Data Scientist   \n",
       "\n",
       "                               company                     salary  \\\n",
       "0                                  NBA                         NA   \n",
       "1                            JW Player                         NA   \n",
       "2                          Movable Ink                         NA   \n",
       "3                           Simulmedia                         NA   \n",
       "4                           FXcompared                         NA   \n",
       "5        HarperCollins Publishers Inc.                         NA   \n",
       "6           MassMutual Financial Group                         NA   \n",
       "7                           PulsePoint                         NA   \n",
       "8                                  AIG                         NA   \n",
       "9                    Nucleus Marketing                         NA   \n",
       "10             Oliver James Associates            $160,000 a year   \n",
       "11                                SKIP                         NA   \n",
       "12                           Microsoft                         NA   \n",
       "13                            Celmatix                         NA   \n",
       "14                             Verizon                         NA   \n",
       "15                             Twitter                         NA   \n",
       "16                             nuvento                         NA   \n",
       "17                             Bonobos                         NA   \n",
       "18                              indify  $90,000 - $170,000 a year   \n",
       "19                               WebMD                         NA   \n",
       "\n",
       "                                              summary  \n",
       "0   The primary focus for this fast paced and coll...  \n",
       "1   Provide expertise on machine learning concepts...  \n",
       "2   As a Data Scientist at Movable Ink, you’ll be ...  \n",
       "3   You will find yourself working with other data...  \n",
       "4   We are looking for full-time Data Scientists t...  \n",
       "5   Uses mid to large-scale machine learning, data...  \n",
       "6   MassMutual’s Advanced Analytics group is seeki...  \n",
       "7   MS/PhD in Astronomy, Physics, Applied Mathemat...  \n",
       "8   § Stay current on the latest machine learning ...  \n",
       "9   You have a Master’s Degree in operations resea...  \n",
       "10  Integrate and mine large data sets, connecting...  \n",
       "11  Experience across a wide variety of deep learn...  \n",
       "12  Our partners are building amazing applications...  \n",
       "13  We seek a Data Scientist with deep expertise w...  \n",
       "14  Bachelor’s/ Master’s Degree in Statistics, Mat...  \n",
       "15  Cortex is a team of software engineers, data s...  \n",
       "16  Advanced degree in Applied Mathematics, Busine...  \n",
       "17  Have a strong understanding of statistics, alg...  \n",
       "18  Indify data scientists contribute to all aspec...  \n",
       "19  Medscape, a division of WebMD, develops and ho...  "
      ]
     },
     "execution_count": 133,
     "metadata": {},
     "output_type": "execute_result"
    }
   ],
   "source": [
    "jobs0.head(20)"
   ]
  },
  {
   "cell_type": "code",
   "execution_count": 136,
   "metadata": {},
   "outputs": [
    {
     "data": {
      "text/plain": [
       "(11597, 5)"
      ]
     },
     "execution_count": 136,
     "metadata": {},
     "output_type": "execute_result"
    }
   ],
   "source": [
    "jobs0.shape"
   ]
  },
  {
   "cell_type": "code",
   "execution_count": 128,
   "metadata": {
    "scrolled": true
   },
   "outputs": [],
   "source": [
    "jobs0.company = jobs0.company.str.encode('utf-8').astype(str).str.replace('\\n', '')\n",
    "jobs0.summary = jobs0.summary.str.encode('utf-8').astype(str).str.replace('\\n', '')"
   ]
  },
  {
   "cell_type": "code",
   "execution_count": 132,
   "metadata": {},
   "outputs": [],
   "source": [
    "for col in ['location', 'title', 'salary']:\n",
    "    jobs0[col] = jobs0[col].str.encode('utf-8').astype(str)"
   ]
  },
  {
   "cell_type": "code",
   "execution_count": null,
   "metadata": {
    "collapsed": true
   },
   "outputs": [],
   "source": []
  },
  {
   "cell_type": "code",
   "execution_count": null,
   "metadata": {
    "collapsed": true
   },
   "outputs": [],
   "source": [
    "# more results"
   ]
  },
  {
   "cell_type": "code",
   "execution_count": 416,
   "metadata": {
    "collapsed": true
   },
   "outputs": [],
   "source": [
    "# made a new df because of the encoding step\n",
    "jobs1 = pd.DataFrame(columns=['location', 'title', 'company', 'salary', 'summary'])"
   ]
  },
  {
   "cell_type": "code",
   "execution_count": 417,
   "metadata": {
    "collapsed": true
   },
   "outputs": [],
   "source": [
    "for entry in results:\n",
    "    location = get_loc(entry)\n",
    "    title = get_job(entry)\n",
    "    company = get_comp(entry)\n",
    "    salary = get_sal(entry)\n",
    "    desc = get_desc(entry)\n",
    "    jobs1.loc[len(jobs1)] = [location, title, company, salary, desc]"
   ]
  },
  {
   "cell_type": "code",
   "execution_count": 419,
   "metadata": {},
   "outputs": [
    {
     "data": {
      "text/plain": [
       "(11591, 5)"
      ]
     },
     "execution_count": 419,
     "metadata": {},
     "output_type": "execute_result"
    }
   ],
   "source": [
    "jobs1.shape"
   ]
  },
  {
   "cell_type": "code",
   "execution_count": 420,
   "metadata": {
    "collapsed": true
   },
   "outputs": [],
   "source": [
    "jobs1.company = jobs1.company.str.encode('utf-8').astype(str).str.replace('\\n', '')\n",
    "jobs1.summary = jobs1.summary.str.encode('utf-8').astype(str).str.replace('\\n', '')"
   ]
  },
  {
   "cell_type": "code",
   "execution_count": 421,
   "metadata": {
    "collapsed": true
   },
   "outputs": [],
   "source": [
    "for col in ['location', 'title', 'salary']:\n",
    "    jobs1[col] = jobs1[col].str.encode('utf-8').astype(str)"
   ]
  },
  {
   "cell_type": "code",
   "execution_count": 422,
   "metadata": {},
   "outputs": [
    {
     "data": {
      "text/html": [
       "<div>\n",
       "<table border=\"1\" class=\"dataframe\">\n",
       "  <thead>\n",
       "    <tr style=\"text-align: right;\">\n",
       "      <th></th>\n",
       "      <th>location</th>\n",
       "      <th>title</th>\n",
       "      <th>company</th>\n",
       "      <th>salary</th>\n",
       "      <th>summary</th>\n",
       "    </tr>\n",
       "  </thead>\n",
       "  <tbody>\n",
       "    <tr>\n",
       "      <th>0</th>\n",
       "      <td>New York, NY 10154 (Midtown area)</td>\n",
       "      <td>Data Scientist</td>\n",
       "      <td>KPMG</td>\n",
       "      <td>NA</td>\n",
       "      <td>Analyze and model structured data and implemen...</td>\n",
       "    </tr>\n",
       "    <tr>\n",
       "      <th>1</th>\n",
       "      <td>New York, NY 10018 (Clinton area)</td>\n",
       "      <td>Data Scientist</td>\n",
       "      <td>JW Player</td>\n",
       "      <td>NA</td>\n",
       "      <td>Provide expertise on machine learning concepts...</td>\n",
       "    </tr>\n",
       "    <tr>\n",
       "      <th>2</th>\n",
       "      <td>New York, NY</td>\n",
       "      <td>Data Scientist</td>\n",
       "      <td>Movable Ink</td>\n",
       "      <td>NA</td>\n",
       "      <td>As a Data Scientist at Movable Ink, you’ll be ...</td>\n",
       "    </tr>\n",
       "    <tr>\n",
       "      <th>3</th>\n",
       "      <td>New York, NY</td>\n",
       "      <td>Data Scientist</td>\n",
       "      <td>NBA</td>\n",
       "      <td>NA</td>\n",
       "      <td>The primary focus for this fast paced and coll...</td>\n",
       "    </tr>\n",
       "    <tr>\n",
       "      <th>4</th>\n",
       "      <td>New York, NY</td>\n",
       "      <td>Data Scientist</td>\n",
       "      <td>HarperCollins Publishers Inc.</td>\n",
       "      <td>NA</td>\n",
       "      <td>Uses mid to large-scale machine learning, data...</td>\n",
       "    </tr>\n",
       "  </tbody>\n",
       "</table>\n",
       "</div>"
      ],
      "text/plain": [
       "                            location           title  \\\n",
       "0  New York, NY 10154 (Midtown area)  Data Scientist   \n",
       "1  New York, NY 10018 (Clinton area)  Data Scientist   \n",
       "2                       New York, NY  Data Scientist   \n",
       "3                       New York, NY  Data Scientist   \n",
       "4                       New York, NY  Data Scientist   \n",
       "\n",
       "                             company salary  \\\n",
       "0                               KPMG     NA   \n",
       "1                          JW Player     NA   \n",
       "2                        Movable Ink     NA   \n",
       "3                                NBA     NA   \n",
       "4      HarperCollins Publishers Inc.     NA   \n",
       "\n",
       "                                             summary  \n",
       "0  Analyze and model structured data and implemen...  \n",
       "1  Provide expertise on machine learning concepts...  \n",
       "2  As a Data Scientist at Movable Ink, you’ll be ...  \n",
       "3  The primary focus for this fast paced and coll...  \n",
       "4  Uses mid to large-scale machine learning, data...  "
      ]
     },
     "execution_count": 422,
     "metadata": {},
     "output_type": "execute_result"
    }
   ],
   "source": [
    "jobs1.head()"
   ]
  },
  {
   "cell_type": "code",
   "execution_count": null,
   "metadata": {
    "collapsed": true
   },
   "outputs": [],
   "source": []
  },
  {
   "cell_type": "code",
   "execution_count": null,
   "metadata": {
    "collapsed": true
   },
   "outputs": [],
   "source": [
    "# merge all my information into final df"
   ]
  },
  {
   "cell_type": "code",
   "execution_count": 423,
   "metadata": {
    "collapsed": true
   },
   "outputs": [],
   "source": [
    "results = pd.concat([jobs, jobs1]).drop_duplicates()"
   ]
  },
  {
   "cell_type": "code",
   "execution_count": 425,
   "metadata": {},
   "outputs": [
    {
     "data": {
      "text/plain": [
       "(12745, 5)"
      ]
     },
     "execution_count": 425,
     "metadata": {},
     "output_type": "execute_result"
    }
   ],
   "source": [
    "results.shape"
   ]
  },
  {
   "cell_type": "code",
   "execution_count": 440,
   "metadata": {
    "collapsed": true
   },
   "outputs": [],
   "source": [
    "results.to_csv('../csv/indeed-results.csv', index=False, encoding='utf-8')"
   ]
  },
  {
   "cell_type": "markdown",
   "metadata": {
    "focus": false,
    "id": "ff98ce64-78a7-441f-a675-63464e32c834"
   },
   "source": [
    "Lastly, we need to clean up salary data. \n",
    "\n",
    "1. Only a small number of the scraped results have salary information - only these will be used for modeling.\n",
    "1. Some of the salaries are not yearly but hourly or weekly, these will not be useful to us for now\n",
    "1. Some of the entries may be duplicated\n",
    "1. The salaries are given as text and usually with ranges."
   ]
  },
  {
   "cell_type": "code",
   "execution_count": 15,
   "metadata": {},
   "outputs": [],
   "source": [
    "results = pd.read_csv('../csv/indeed-results.csv')"
   ]
  },
  {
   "cell_type": "code",
   "execution_count": 16,
   "metadata": {
    "collapsed": true
   },
   "outputs": [],
   "source": [
    "salaries = results[results.salary.notnull()]"
   ]
  },
  {
   "cell_type": "code",
   "execution_count": 17,
   "metadata": {},
   "outputs": [
    {
     "data": {
      "text/plain": [
       "(768, 5)"
      ]
     },
     "execution_count": 17,
     "metadata": {},
     "output_type": "execute_result"
    }
   ],
   "source": [
    "salaries.shape"
   ]
  },
  {
   "cell_type": "code",
   "execution_count": 18,
   "metadata": {},
   "outputs": [
    {
     "data": {
      "text/html": [
       "<div>\n",
       "<table border=\"1\" class=\"dataframe\">\n",
       "  <thead>\n",
       "    <tr style=\"text-align: right;\">\n",
       "      <th></th>\n",
       "      <th>location</th>\n",
       "      <th>title</th>\n",
       "      <th>company</th>\n",
       "      <th>salary</th>\n",
       "      <th>summary</th>\n",
       "    </tr>\n",
       "  </thead>\n",
       "  <tbody>\n",
       "    <tr>\n",
       "      <th>24</th>\n",
       "      <td>New York, NY</td>\n",
       "      <td>Data Scientist</td>\n",
       "      <td>indify</td>\n",
       "      <td>$90,000 - $170,000 a year</td>\n",
       "      <td>Indify data scientists contribute to all aspec...</td>\n",
       "    </tr>\n",
       "    <tr>\n",
       "      <th>50</th>\n",
       "      <td>New York, NY 10031 (Hamilton Heights area)</td>\n",
       "      <td>Computer Science (Data Analysis) Instructor</td>\n",
       "      <td>Urban Scholars Program, City College of Ne...</td>\n",
       "      <td>$40 an hour</td>\n",
       "      <td>Data, data filtering, basic spreadsheet operat...</td>\n",
       "    </tr>\n",
       "    <tr>\n",
       "      <th>63</th>\n",
       "      <td>New York, NY</td>\n",
       "      <td>Data Scientist</td>\n",
       "      <td>WorldCover</td>\n",
       "      <td>$70,000 - $110,000 a year</td>\n",
       "      <td>Your primary focus will be in applying data mi...</td>\n",
       "    </tr>\n",
       "    <tr>\n",
       "      <th>79</th>\n",
       "      <td>New York, NY</td>\n",
       "      <td>Data Scientist</td>\n",
       "      <td>Scienaptic Systems Inc</td>\n",
       "      <td>$100,000 a year</td>\n",
       "      <td>As our representative in front of client, you ...</td>\n",
       "    </tr>\n",
       "    <tr>\n",
       "      <th>98</th>\n",
       "      <td>New York, NY 10038 (Financial District area)</td>\n",
       "      <td>Data Scientist</td>\n",
       "      <td>Enterprise Select</td>\n",
       "      <td>$130,000 a year</td>\n",
       "      <td>Deep knowledge of applied statistics and machi...</td>\n",
       "    </tr>\n",
       "  </tbody>\n",
       "</table>\n",
       "</div>"
      ],
      "text/plain": [
       "                                        location  \\\n",
       "24                                  New York, NY   \n",
       "50    New York, NY 10031 (Hamilton Heights area)   \n",
       "63                                  New York, NY   \n",
       "79                                  New York, NY   \n",
       "98  New York, NY 10038 (Financial District area)   \n",
       "\n",
       "                                          title  \\\n",
       "24                               Data Scientist   \n",
       "50  Computer Science (Data Analysis) Instructor   \n",
       "63                               Data Scientist   \n",
       "79                               Data Scientist   \n",
       "98                               Data Scientist   \n",
       "\n",
       "                                              company  \\\n",
       "24                                             indify   \n",
       "50      Urban Scholars Program, City College of Ne...   \n",
       "63                                         WorldCover   \n",
       "79                             Scienaptic Systems Inc   \n",
       "98                                  Enterprise Select   \n",
       "\n",
       "                       salary  \\\n",
       "24  $90,000 - $170,000 a year   \n",
       "50                $40 an hour   \n",
       "63  $70,000 - $110,000 a year   \n",
       "79            $100,000 a year   \n",
       "98            $130,000 a year   \n",
       "\n",
       "                                              summary  \n",
       "24  Indify data scientists contribute to all aspec...  \n",
       "50  Data, data filtering, basic spreadsheet operat...  \n",
       "63  Your primary focus will be in applying data mi...  \n",
       "79  As our representative in front of client, you ...  \n",
       "98  Deep knowledge of applied statistics and machi...  "
      ]
     },
     "execution_count": 18,
     "metadata": {},
     "output_type": "execute_result"
    }
   ],
   "source": [
    "salaries.head()"
   ]
  },
  {
   "cell_type": "code",
   "execution_count": 19,
   "metadata": {},
   "outputs": [],
   "source": [
    "salaries = salaries[(~salaries.salary.str.contains('an hour')) & (~salaries.salary.str.contains('a month'))\n",
    "                   & (~salaries.salary.str.contains('a week')) & (~salaries.salary.str.contains('a day'))]"
   ]
  },
  {
   "cell_type": "code",
   "execution_count": 20,
   "metadata": {},
   "outputs": [],
   "source": [
    "salaries.salary = salaries.salary.str.replace('a year', '').str.replace(',', '').str.replace('$', '')"
   ]
  },
  {
   "cell_type": "markdown",
   "metadata": {
    "focus": false,
    "id": "7d4bc860-b214-4f75-9cd0-b234830b1ec2"
   },
   "source": [
    "#### Need to turn salary ranges to an average and convert the salaries to floats"
   ]
  },
  {
   "cell_type": "code",
   "execution_count": 21,
   "metadata": {},
   "outputs": [],
   "source": [
    "for i in salaries.salary:\n",
    "    if len(i.split('-')) != 1 and len(i.split('-')) != 2:\n",
    "        print i"
   ]
  },
  {
   "cell_type": "code",
   "execution_count": 22,
   "metadata": {},
   "outputs": [],
   "source": [
    "new_salaries = []\n",
    "for i in salaries.salary:\n",
    "    a = i.split('-')\n",
    "    if len(a) == 2:\n",
    "        new_salaries.append(np.mean([float(b) for b in a]))\n",
    "    else:\n",
    "        new_salaries.append(float(a[0]))"
   ]
  },
  {
   "cell_type": "code",
   "execution_count": 23,
   "metadata": {},
   "outputs": [
    {
     "data": {
      "text/plain": [
       "[130000.0, 90000.0, 100000.0, 130000.0, 75000.0]"
      ]
     },
     "execution_count": 23,
     "metadata": {},
     "output_type": "execute_result"
    }
   ],
   "source": [
    "new_salaries[0:5]"
   ]
  },
  {
   "cell_type": "code",
   "execution_count": 24,
   "metadata": {
    "collapsed": true
   },
   "outputs": [],
   "source": [
    "salaries.salary = new_salaries"
   ]
  },
  {
   "cell_type": "code",
   "execution_count": 25,
   "metadata": {},
   "outputs": [
    {
     "data": {
      "text/plain": [
       "(551, 5)"
      ]
     },
     "execution_count": 25,
     "metadata": {},
     "output_type": "execute_result"
    }
   ],
   "source": [
    "salaries.shape"
   ]
  },
  {
   "cell_type": "code",
   "execution_count": 26,
   "metadata": {},
   "outputs": [
    {
     "data": {
      "text/plain": [
       "0"
      ]
     },
     "execution_count": 26,
     "metadata": {},
     "output_type": "execute_result"
    }
   ],
   "source": [
    "salaries.duplicated().sum()"
   ]
  },
  {
   "cell_type": "code",
   "execution_count": 27,
   "metadata": {},
   "outputs": [
    {
     "data": {
      "text/html": [
       "<div>\n",
       "<table border=\"1\" class=\"dataframe\">\n",
       "  <thead>\n",
       "    <tr style=\"text-align: right;\">\n",
       "      <th></th>\n",
       "      <th>location</th>\n",
       "      <th>title</th>\n",
       "      <th>company</th>\n",
       "      <th>salary</th>\n",
       "      <th>summary</th>\n",
       "    </tr>\n",
       "  </thead>\n",
       "  <tbody>\n",
       "    <tr>\n",
       "      <th>24</th>\n",
       "      <td>New York, NY</td>\n",
       "      <td>Data Scientist</td>\n",
       "      <td>indify</td>\n",
       "      <td>130000.0</td>\n",
       "      <td>Indify data scientists contribute to all aspec...</td>\n",
       "    </tr>\n",
       "    <tr>\n",
       "      <th>63</th>\n",
       "      <td>New York, NY</td>\n",
       "      <td>Data Scientist</td>\n",
       "      <td>WorldCover</td>\n",
       "      <td>90000.0</td>\n",
       "      <td>Your primary focus will be in applying data mi...</td>\n",
       "    </tr>\n",
       "    <tr>\n",
       "      <th>79</th>\n",
       "      <td>New York, NY</td>\n",
       "      <td>Data Scientist</td>\n",
       "      <td>Scienaptic Systems Inc</td>\n",
       "      <td>100000.0</td>\n",
       "      <td>As our representative in front of client, you ...</td>\n",
       "    </tr>\n",
       "    <tr>\n",
       "      <th>98</th>\n",
       "      <td>New York, NY 10038 (Financial District area)</td>\n",
       "      <td>Data Scientist</td>\n",
       "      <td>Enterprise Select</td>\n",
       "      <td>130000.0</td>\n",
       "      <td>Deep knowledge of applied statistics and machi...</td>\n",
       "    </tr>\n",
       "    <tr>\n",
       "      <th>105</th>\n",
       "      <td>New York, NY</td>\n",
       "      <td>Senior Research Analyst</td>\n",
       "      <td>Research Foundation of The City Univer...</td>\n",
       "      <td>75000.0</td>\n",
       "      <td>Overseeing all project activities related to d...</td>\n",
       "    </tr>\n",
       "  </tbody>\n",
       "</table>\n",
       "</div>"
      ],
      "text/plain": [
       "                                         location                    title  \\\n",
       "24                                   New York, NY           Data Scientist   \n",
       "63                                   New York, NY           Data Scientist   \n",
       "79                                   New York, NY           Data Scientist   \n",
       "98   New York, NY 10038 (Financial District area)           Data Scientist   \n",
       "105                                  New York, NY  Senior Research Analyst   \n",
       "\n",
       "                                               company    salary  \\\n",
       "24                                              indify  130000.0   \n",
       "63                                          WorldCover   90000.0   \n",
       "79                              Scienaptic Systems Inc  100000.0   \n",
       "98                                   Enterprise Select  130000.0   \n",
       "105          Research Foundation of The City Univer...   75000.0   \n",
       "\n",
       "                                               summary  \n",
       "24   Indify data scientists contribute to all aspec...  \n",
       "63   Your primary focus will be in applying data mi...  \n",
       "79   As our representative in front of client, you ...  \n",
       "98   Deep knowledge of applied statistics and machi...  \n",
       "105  Overseeing all project activities related to d...  "
      ]
     },
     "execution_count": 27,
     "metadata": {},
     "output_type": "execute_result"
    }
   ],
   "source": [
    "salaries.head()"
   ]
  },
  {
   "cell_type": "markdown",
   "metadata": {
    "focus": false,
    "id": "43e71edd-210e-42b1-9336-70a931f048af"
   },
   "source": [
    "### Save results as a CSV"
   ]
  },
  {
   "cell_type": "code",
   "execution_count": 28,
   "metadata": {
    "collapsed": true,
    "focus": false,
    "id": "783fd153-28ac-47ab-bfca-27e7c1de95b4"
   },
   "outputs": [],
   "source": [
    "salaries.to_csv('../csv/salaries-complete.csv', index=False, encoding='utf-8')"
   ]
  },
  {
   "cell_type": "markdown",
   "metadata": {
    "focus": false,
    "id": "04563b69-f7b6-466f-9d65-fc62c9ddee6a"
   },
   "source": [
    "# Predicting salaries using Random Forests"
   ]
  },
  {
   "cell_type": "markdown",
   "metadata": {
    "focus": false,
    "id": "243e949e-2742-40af-872e-fec475fd306c"
   },
   "source": [
    "#### Load in the the data of scraped salaries"
   ]
  },
  {
   "cell_type": "code",
   "execution_count": 3,
   "metadata": {
    "focus": false,
    "id": "588f9845-6143-4bcc-bfd1-85d45b79303d"
   },
   "outputs": [],
   "source": [
    "salaries = pd.read_csv('../csv/salaries-complete.csv')"
   ]
  },
  {
   "cell_type": "code",
   "execution_count": 4,
   "metadata": {},
   "outputs": [
    {
     "data": {
      "text/html": [
       "<div>\n",
       "<style>\n",
       "    .dataframe thead tr:only-child th {\n",
       "        text-align: right;\n",
       "    }\n",
       "\n",
       "    .dataframe thead th {\n",
       "        text-align: left;\n",
       "    }\n",
       "\n",
       "    .dataframe tbody tr th {\n",
       "        vertical-align: top;\n",
       "    }\n",
       "</style>\n",
       "<table border=\"1\" class=\"dataframe\">\n",
       "  <thead>\n",
       "    <tr style=\"text-align: right;\">\n",
       "      <th></th>\n",
       "      <th>location</th>\n",
       "      <th>title</th>\n",
       "      <th>company</th>\n",
       "      <th>salary</th>\n",
       "      <th>summary</th>\n",
       "    </tr>\n",
       "  </thead>\n",
       "  <tbody>\n",
       "    <tr>\n",
       "      <th>0</th>\n",
       "      <td>New York, NY</td>\n",
       "      <td>Data Scientist</td>\n",
       "      <td>indify</td>\n",
       "      <td>130000.0</td>\n",
       "      <td>Indify data scientists contribute to all aspec...</td>\n",
       "    </tr>\n",
       "    <tr>\n",
       "      <th>1</th>\n",
       "      <td>New York, NY</td>\n",
       "      <td>Data Scientist</td>\n",
       "      <td>WorldCover</td>\n",
       "      <td>90000.0</td>\n",
       "      <td>Your primary focus will be in applying data mi...</td>\n",
       "    </tr>\n",
       "    <tr>\n",
       "      <th>2</th>\n",
       "      <td>New York, NY</td>\n",
       "      <td>Data Scientist</td>\n",
       "      <td>Scienaptic Systems Inc</td>\n",
       "      <td>100000.0</td>\n",
       "      <td>As our representative in front of client, you ...</td>\n",
       "    </tr>\n",
       "    <tr>\n",
       "      <th>3</th>\n",
       "      <td>New York, NY 10038 (Financial District area)</td>\n",
       "      <td>Data Scientist</td>\n",
       "      <td>Enterprise Select</td>\n",
       "      <td>130000.0</td>\n",
       "      <td>Deep knowledge of applied statistics and machi...</td>\n",
       "    </tr>\n",
       "    <tr>\n",
       "      <th>4</th>\n",
       "      <td>New York, NY</td>\n",
       "      <td>Senior Research Analyst</td>\n",
       "      <td>Research Foundation of The City Univer...</td>\n",
       "      <td>75000.0</td>\n",
       "      <td>Overseeing all project activities related to d...</td>\n",
       "    </tr>\n",
       "  </tbody>\n",
       "</table>\n",
       "</div>"
      ],
      "text/plain": [
       "                                       location                    title  \\\n",
       "0                                  New York, NY           Data Scientist   \n",
       "1                                  New York, NY           Data Scientist   \n",
       "2                                  New York, NY           Data Scientist   \n",
       "3  New York, NY 10038 (Financial District area)           Data Scientist   \n",
       "4                                  New York, NY  Senior Research Analyst   \n",
       "\n",
       "                                             company    salary  \\\n",
       "0                                             indify  130000.0   \n",
       "1                                         WorldCover   90000.0   \n",
       "2                             Scienaptic Systems Inc  100000.0   \n",
       "3                                  Enterprise Select  130000.0   \n",
       "4          Research Foundation of The City Univer...   75000.0   \n",
       "\n",
       "                                             summary  \n",
       "0  Indify data scientists contribute to all aspec...  \n",
       "1  Your primary focus will be in applying data mi...  \n",
       "2  As our representative in front of client, you ...  \n",
       "3  Deep knowledge of applied statistics and machi...  \n",
       "4  Overseeing all project activities related to d...  "
      ]
     },
     "execution_count": 4,
     "metadata": {},
     "output_type": "execute_result"
    }
   ],
   "source": [
    "salaries.head()"
   ]
  },
  {
   "cell_type": "markdown",
   "metadata": {
    "focus": false,
    "id": "c7631f51-07f2-4c79-a093-3e9bc7849a48"
   },
   "source": [
    "#### We want to predict a binary variable - whether the salary was low or high. Compute the median salary and create a new binary variable that is true when the salary is high (above the median)\n",
    "\n",
    "Regression could be used for a task like this, but since there is a fair amount of variance in job salaries, I treated this as a classification problem, with the goal of predicting whether a job salary would be above or below the median salary for a data scientist."
   ]
  },
  {
   "cell_type": "code",
   "execution_count": 5,
   "metadata": {
    "focus": false,
    "id": "c20d2498-151c-44c3-a453-3a333c79a0ac"
   },
   "outputs": [
    {
     "data": {
      "text/plain": [
       "111000.0"
      ]
     },
     "execution_count": 5,
     "metadata": {},
     "output_type": "execute_result"
    }
   ],
   "source": [
    "median_salary = np.median(salaries.salary)\n",
    "median_salary"
   ]
  },
  {
   "cell_type": "code",
   "execution_count": 6,
   "metadata": {
    "collapsed": true
   },
   "outputs": [],
   "source": [
    "salaries['high_salary'] = [1 if i > median_salary else 0 for i in salaries.salary]"
   ]
  },
  {
   "cell_type": "code",
   "execution_count": 7,
   "metadata": {},
   "outputs": [
    {
     "data": {
      "text/html": [
       "<div>\n",
       "<style>\n",
       "    .dataframe thead tr:only-child th {\n",
       "        text-align: right;\n",
       "    }\n",
       "\n",
       "    .dataframe thead th {\n",
       "        text-align: left;\n",
       "    }\n",
       "\n",
       "    .dataframe tbody tr th {\n",
       "        vertical-align: top;\n",
       "    }\n",
       "</style>\n",
       "<table border=\"1\" class=\"dataframe\">\n",
       "  <thead>\n",
       "    <tr style=\"text-align: right;\">\n",
       "      <th></th>\n",
       "      <th>location</th>\n",
       "      <th>title</th>\n",
       "      <th>company</th>\n",
       "      <th>salary</th>\n",
       "      <th>summary</th>\n",
       "      <th>high_salary</th>\n",
       "    </tr>\n",
       "  </thead>\n",
       "  <tbody>\n",
       "    <tr>\n",
       "      <th>0</th>\n",
       "      <td>New York, NY</td>\n",
       "      <td>Data Scientist</td>\n",
       "      <td>indify</td>\n",
       "      <td>130000.0</td>\n",
       "      <td>Indify data scientists contribute to all aspec...</td>\n",
       "      <td>1</td>\n",
       "    </tr>\n",
       "    <tr>\n",
       "      <th>1</th>\n",
       "      <td>New York, NY</td>\n",
       "      <td>Data Scientist</td>\n",
       "      <td>WorldCover</td>\n",
       "      <td>90000.0</td>\n",
       "      <td>Your primary focus will be in applying data mi...</td>\n",
       "      <td>0</td>\n",
       "    </tr>\n",
       "    <tr>\n",
       "      <th>2</th>\n",
       "      <td>New York, NY</td>\n",
       "      <td>Data Scientist</td>\n",
       "      <td>Scienaptic Systems Inc</td>\n",
       "      <td>100000.0</td>\n",
       "      <td>As our representative in front of client, you ...</td>\n",
       "      <td>0</td>\n",
       "    </tr>\n",
       "    <tr>\n",
       "      <th>3</th>\n",
       "      <td>New York, NY 10038 (Financial District area)</td>\n",
       "      <td>Data Scientist</td>\n",
       "      <td>Enterprise Select</td>\n",
       "      <td>130000.0</td>\n",
       "      <td>Deep knowledge of applied statistics and machi...</td>\n",
       "      <td>1</td>\n",
       "    </tr>\n",
       "    <tr>\n",
       "      <th>4</th>\n",
       "      <td>New York, NY</td>\n",
       "      <td>Senior Research Analyst</td>\n",
       "      <td>Research Foundation of The City Univer...</td>\n",
       "      <td>75000.0</td>\n",
       "      <td>Overseeing all project activities related to d...</td>\n",
       "      <td>0</td>\n",
       "    </tr>\n",
       "  </tbody>\n",
       "</table>\n",
       "</div>"
      ],
      "text/plain": [
       "                                       location                    title  \\\n",
       "0                                  New York, NY           Data Scientist   \n",
       "1                                  New York, NY           Data Scientist   \n",
       "2                                  New York, NY           Data Scientist   \n",
       "3  New York, NY 10038 (Financial District area)           Data Scientist   \n",
       "4                                  New York, NY  Senior Research Analyst   \n",
       "\n",
       "                                             company    salary  \\\n",
       "0                                             indify  130000.0   \n",
       "1                                         WorldCover   90000.0   \n",
       "2                             Scienaptic Systems Inc  100000.0   \n",
       "3                                  Enterprise Select  130000.0   \n",
       "4          Research Foundation of The City Univer...   75000.0   \n",
       "\n",
       "                                             summary  high_salary  \n",
       "0  Indify data scientists contribute to all aspec...            1  \n",
       "1  Your primary focus will be in applying data mi...            0  \n",
       "2  As our representative in front of client, you ...            0  \n",
       "3  Deep knowledge of applied statistics and machi...            1  \n",
       "4  Overseeing all project activities related to d...            0  "
      ]
     },
     "execution_count": 7,
     "metadata": {},
     "output_type": "execute_result"
    }
   ],
   "source": [
    "salaries.head()"
   ]
  },
  {
   "cell_type": "markdown",
   "metadata": {
    "focus": false,
    "id": "4fb29de2-5b98-474c-a4ad-5170b72b9aea"
   },
   "source": [
    "#### Create a Random Forest model to predict High/Low salary using Sklearn. Start by ONLY using the location as a feature. "
   ]
  },
  {
   "cell_type": "code",
   "execution_count": 8,
   "metadata": {
    "collapsed": true
   },
   "outputs": [],
   "source": [
    "from sklearn.model_selection import cross_val_score, StratifiedKFold, train_test_split\n",
    "from sklearn.tree import DecisionTreeClassifier\n",
    "from sklearn.ensemble import RandomForestClassifier, ExtraTreesClassifier, BaggingClassifier, AdaBoostClassifier, GradientBoostingClassifier\n",
    "from sklearn.metrics import accuracy_score"
   ]
  },
  {
   "cell_type": "code",
   "execution_count": 9,
   "metadata": {},
   "outputs": [
    {
     "data": {
      "text/plain": [
       "New York, NY                                         76\n",
       "Chicago, IL                                          37\n",
       "Boston, MA                                           26\n",
       "Manhattan, NY                                        24\n",
       "Los Angeles, CA                                      21\n",
       "Washington, DC                                       19\n",
       "San Francisco, CA                                    17\n",
       "St. Louis, MO                                        15\n",
       "Seattle, WA                                          13\n",
       "San Jose, CA 95113 (Downtown area)                   12\n",
       "Phoenix, AZ                                          11\n",
       "Philadelphia, PA                                     10\n",
       "Coral Gables, FL                                      9\n",
       "Portland, OR                                          8\n",
       "Houston, TX                                           8\n",
       "Atlanta, GA                                           7\n",
       "Santa Clara, CA                                       6\n",
       "Chicago, IL 60603 (Loop area)                         6\n",
       "San Mateo, CA                                         5\n",
       "San Francisco, CA 94105 (Financial District area)     5\n",
       "Columbus, OH                                          5\n",
       "Pittsburgh, PA                                        4\n",
       "Dallas, TX                                            4\n",
       "Austin, TX                                            4\n",
       "Campbell, CA                                          4\n",
       "Berkeley, CA                                          4\n",
       "Alexandria, VA                                        3\n",
       "Pleasanton, CA 94588                                  3\n",
       "Cincinnati, OH                                        3\n",
       "San Francisco Bay Area, CA                            3\n",
       "Name: location, dtype: int64"
      ]
     },
     "execution_count": 9,
     "metadata": {},
     "output_type": "execute_result"
    }
   ],
   "source": [
    "salaries.location.value_counts()[0:30]"
   ]
  },
  {
   "cell_type": "code",
   "execution_count": 10,
   "metadata": {},
   "outputs": [],
   "source": [
    "cities = []\n",
    "states = []\n",
    "\n",
    "for loc in salaries.location:\n",
    "    items = loc.split(',')\n",
    "    cities.append(items[0])\n",
    "    states.append(items[1])"
   ]
  },
  {
   "cell_type": "code",
   "execution_count": 11,
   "metadata": {
    "collapsed": true
   },
   "outputs": [],
   "source": [
    "import re"
   ]
  },
  {
   "cell_type": "code",
   "execution_count": 12,
   "metadata": {
    "scrolled": true
   },
   "outputs": [],
   "source": [
    "only_states = []\n",
    "for state in states:\n",
    "    only_states.append(re.search(r'\\w+', state).group(0))"
   ]
  },
  {
   "cell_type": "code",
   "execution_count": 13,
   "metadata": {},
   "outputs": [],
   "source": [
    "salaries['city'] = cities\n",
    "salaries['state'] = only_states"
   ]
  },
  {
   "cell_type": "code",
   "execution_count": 14,
   "metadata": {},
   "outputs": [],
   "source": [
    "salaries.city = salaries.city + \", \" + salaries.state"
   ]
  },
  {
   "cell_type": "code",
   "execution_count": 15,
   "metadata": {
    "collapsed": true
   },
   "outputs": [],
   "source": [
    "for i in salaries.state:\n",
    "    if len(i) > 2:\n",
    "        print i"
   ]
  },
  {
   "cell_type": "code",
   "execution_count": 16,
   "metadata": {},
   "outputs": [
    {
     "data": {
      "text/html": [
       "<div>\n",
       "<style>\n",
       "    .dataframe thead tr:only-child th {\n",
       "        text-align: right;\n",
       "    }\n",
       "\n",
       "    .dataframe thead th {\n",
       "        text-align: left;\n",
       "    }\n",
       "\n",
       "    .dataframe tbody tr th {\n",
       "        vertical-align: top;\n",
       "    }\n",
       "</style>\n",
       "<table border=\"1\" class=\"dataframe\">\n",
       "  <thead>\n",
       "    <tr style=\"text-align: right;\">\n",
       "      <th></th>\n",
       "      <th>location</th>\n",
       "      <th>title</th>\n",
       "      <th>company</th>\n",
       "      <th>salary</th>\n",
       "      <th>summary</th>\n",
       "      <th>high_salary</th>\n",
       "      <th>city</th>\n",
       "      <th>state</th>\n",
       "    </tr>\n",
       "  </thead>\n",
       "  <tbody>\n",
       "    <tr>\n",
       "      <th>0</th>\n",
       "      <td>New York, NY</td>\n",
       "      <td>Data Scientist</td>\n",
       "      <td>indify</td>\n",
       "      <td>130000.0</td>\n",
       "      <td>Indify data scientists contribute to all aspec...</td>\n",
       "      <td>1</td>\n",
       "      <td>New York, NY</td>\n",
       "      <td>NY</td>\n",
       "    </tr>\n",
       "    <tr>\n",
       "      <th>1</th>\n",
       "      <td>New York, NY</td>\n",
       "      <td>Data Scientist</td>\n",
       "      <td>WorldCover</td>\n",
       "      <td>90000.0</td>\n",
       "      <td>Your primary focus will be in applying data mi...</td>\n",
       "      <td>0</td>\n",
       "      <td>New York, NY</td>\n",
       "      <td>NY</td>\n",
       "    </tr>\n",
       "    <tr>\n",
       "      <th>2</th>\n",
       "      <td>New York, NY</td>\n",
       "      <td>Data Scientist</td>\n",
       "      <td>Scienaptic Systems Inc</td>\n",
       "      <td>100000.0</td>\n",
       "      <td>As our representative in front of client, you ...</td>\n",
       "      <td>0</td>\n",
       "      <td>New York, NY</td>\n",
       "      <td>NY</td>\n",
       "    </tr>\n",
       "    <tr>\n",
       "      <th>3</th>\n",
       "      <td>New York, NY 10038 (Financial District area)</td>\n",
       "      <td>Data Scientist</td>\n",
       "      <td>Enterprise Select</td>\n",
       "      <td>130000.0</td>\n",
       "      <td>Deep knowledge of applied statistics and machi...</td>\n",
       "      <td>1</td>\n",
       "      <td>New York, NY</td>\n",
       "      <td>NY</td>\n",
       "    </tr>\n",
       "    <tr>\n",
       "      <th>4</th>\n",
       "      <td>New York, NY</td>\n",
       "      <td>Senior Research Analyst</td>\n",
       "      <td>Research Foundation of The City Univer...</td>\n",
       "      <td>75000.0</td>\n",
       "      <td>Overseeing all project activities related to d...</td>\n",
       "      <td>0</td>\n",
       "      <td>New York, NY</td>\n",
       "      <td>NY</td>\n",
       "    </tr>\n",
       "  </tbody>\n",
       "</table>\n",
       "</div>"
      ],
      "text/plain": [
       "                                       location                    title  \\\n",
       "0                                  New York, NY           Data Scientist   \n",
       "1                                  New York, NY           Data Scientist   \n",
       "2                                  New York, NY           Data Scientist   \n",
       "3  New York, NY 10038 (Financial District area)           Data Scientist   \n",
       "4                                  New York, NY  Senior Research Analyst   \n",
       "\n",
       "                                             company    salary  \\\n",
       "0                                             indify  130000.0   \n",
       "1                                         WorldCover   90000.0   \n",
       "2                             Scienaptic Systems Inc  100000.0   \n",
       "3                                  Enterprise Select  130000.0   \n",
       "4          Research Foundation of The City Univer...   75000.0   \n",
       "\n",
       "                                             summary  high_salary  \\\n",
       "0  Indify data scientists contribute to all aspec...            1   \n",
       "1  Your primary focus will be in applying data mi...            0   \n",
       "2  As our representative in front of client, you ...            0   \n",
       "3  Deep knowledge of applied statistics and machi...            1   \n",
       "4  Overseeing all project activities related to d...            0   \n",
       "\n",
       "           city state  \n",
       "0  New York, NY    NY  \n",
       "1  New York, NY    NY  \n",
       "2  New York, NY    NY  \n",
       "3  New York, NY    NY  \n",
       "4  New York, NY    NY  "
      ]
     },
     "execution_count": 16,
     "metadata": {},
     "output_type": "execute_result"
    }
   ],
   "source": [
    "salaries.head()"
   ]
  },
  {
   "cell_type": "code",
   "execution_count": 17,
   "metadata": {},
   "outputs": [
    {
     "data": {
      "text/plain": [
       "101"
      ]
     },
     "execution_count": 17,
     "metadata": {},
     "output_type": "execute_result"
    }
   ],
   "source": [
    "salaries.city.nunique()"
   ]
  },
  {
   "cell_type": "code",
   "execution_count": 18,
   "metadata": {
    "scrolled": false
   },
   "outputs": [
    {
     "data": {
      "text/plain": [
       "New York, NY                  91\n",
       "Chicago, IL                   47\n",
       "Boston, MA                    32\n",
       "San Francisco, CA             24\n",
       "Manhattan, NY                 24\n",
       "Los Angeles, CA               22\n",
       "Washington, DC                21\n",
       "St. Louis, MO                 15\n",
       "San Jose, CA                  15\n",
       "Philadelphia, PA              14\n",
       "Seattle, WA                   14\n",
       "Phoenix, AZ                   11\n",
       "Houston, TX                   10\n",
       "Austin, TX                     9\n",
       "Coral Gables, FL               9\n",
       "Santa Clara, CA                9\n",
       "Portland, OR                   8\n",
       "Atlanta, GA                    7\n",
       "Columbus, OH                   6\n",
       "Charlotte, NC                  6\n",
       "Denver, CO                     6\n",
       "Pittsburgh, PA                 5\n",
       "San Diego, CA                  5\n",
       "Cambridge, MA                  5\n",
       "San Mateo, CA                  5\n",
       "Berkeley, CA                   5\n",
       "Dallas, TX                     5\n",
       "Alexandria, VA                 4\n",
       "Indianapolis, IN               4\n",
       "Pleasanton, CA                 4\n",
       "                              ..\n",
       "Ambler, PA                     1\n",
       "Santa Monica, CA               1\n",
       "Pasadena, CA                   1\n",
       "College Park, MD               1\n",
       "East Hanover, NJ               1\n",
       "Cherry Hill, NJ                1\n",
       "Beverly Hills, CA              1\n",
       "Laurel, MD                     1\n",
       "Greenbelt, MD                  1\n",
       "Wilmington, DE                 1\n",
       "Collegeville, PA               1\n",
       "Nashville, TN                  1\n",
       "Rockville, MD                  1\n",
       "Watertown, MA                  1\n",
       "Norcross, GA                   1\n",
       "Saint Paul, MN                 1\n",
       "Marlborough, MA                1\n",
       "Rosemont, IL                   1\n",
       "Minneapolis-Saint Paul, MN     1\n",
       "Scottsdale, AZ                 1\n",
       "Goodyear, AZ                   1\n",
       "San Ramon, CA                  1\n",
       "Plantation, FL                 1\n",
       "Quincy, MA                     1\n",
       "Bronx, NY                      1\n",
       "Brentwood, TN                  1\n",
       "Valley Stream, NY              1\n",
       "Palo Alto, CA                  1\n",
       "Kansas City, MO                1\n",
       "Irving, TX                     1\n",
       "Name: city, Length: 101, dtype: int64"
      ]
     },
     "execution_count": 18,
     "metadata": {},
     "output_type": "execute_result"
    }
   ],
   "source": [
    "salaries.city.value_counts()"
   ]
  },
  {
   "cell_type": "markdown",
   "metadata": {
    "collapsed": true
   },
   "source": [
    "---\n",
    "\n",
    "## City random forest"
   ]
  },
  {
   "cell_type": "code",
   "execution_count": 20,
   "metadata": {
    "collapsed": true
   },
   "outputs": [],
   "source": [
    "city_dummies = pd.get_dummies(salaries.city)\n",
    "\n",
    "X_city = city_dummies\n",
    "y_city = salaries.high_salary"
   ]
  },
  {
   "cell_type": "code",
   "execution_count": 21,
   "metadata": {},
   "outputs": [],
   "source": [
    "X_train, X_test, y_train, y_test = train_test_split(X_city, y_city, test_size=0.3, random_state=90)"
   ]
  },
  {
   "cell_type": "code",
   "execution_count": 22,
   "metadata": {},
   "outputs": [
    {
     "name": "stdout",
     "output_type": "stream",
     "text": [
      "Accuracy Score: 0.663\n",
      "Cross Validation Score:\t0.62 ± 0.109\n"
     ]
    }
   ],
   "source": [
    "rfc = RandomForestClassifier(n_estimators=300, random_state=90)\n",
    "rfc.fit(X_train, y_train)\n",
    "\n",
    "rfc_pred = rfc.predict(X_test)\n",
    "acc = accuracy_score(y_test, rfc_pred)\n",
    "print \"Accuracy Score:\", acc.round(3)\n",
    "\n",
    "s = cross_val_score(rfc, X_city, y_city, cv=10, n_jobs=-1)\n",
    "print \"Cross Validation Score:\\t{:0.3} ± {:0.3}\".format(s.mean().round(3), s.std().round(3))"
   ]
  },
  {
   "cell_type": "code",
   "execution_count": 23,
   "metadata": {},
   "outputs": [
    {
     "data": {
      "text/html": [
       "<div>\n",
       "<style>\n",
       "    .dataframe thead tr:only-child th {\n",
       "        text-align: right;\n",
       "    }\n",
       "\n",
       "    .dataframe thead th {\n",
       "        text-align: left;\n",
       "    }\n",
       "\n",
       "    .dataframe tbody tr th {\n",
       "        vertical-align: top;\n",
       "    }\n",
       "</style>\n",
       "<table border=\"1\" class=\"dataframe\">\n",
       "  <thead>\n",
       "    <tr style=\"text-align: right;\">\n",
       "      <th></th>\n",
       "      <th>feature</th>\n",
       "      <th>importance</th>\n",
       "      <th>median_salary</th>\n",
       "      <th>over_or_under</th>\n",
       "    </tr>\n",
       "  </thead>\n",
       "  <tbody>\n",
       "    <tr>\n",
       "      <th>48</th>\n",
       "      <td>Manhattan, NY</td>\n",
       "      <td>0.091707</td>\n",
       "      <td>76143.0</td>\n",
       "      <td>0</td>\n",
       "    </tr>\n",
       "    <tr>\n",
       "      <th>58</th>\n",
       "      <td>New York, NY</td>\n",
       "      <td>0.089924</td>\n",
       "      <td>135000.0</td>\n",
       "      <td>1</td>\n",
       "    </tr>\n",
       "    <tr>\n",
       "      <th>83</th>\n",
       "      <td>San Jose, CA</td>\n",
       "      <td>0.047800</td>\n",
       "      <td>162500.0</td>\n",
       "      <td>1</td>\n",
       "    </tr>\n",
       "    <tr>\n",
       "      <th>82</th>\n",
       "      <td>San Francisco, CA</td>\n",
       "      <td>0.046551</td>\n",
       "      <td>162500.0</td>\n",
       "      <td>1</td>\n",
       "    </tr>\n",
       "    <tr>\n",
       "      <th>93</th>\n",
       "      <td>St. Louis, MO</td>\n",
       "      <td>0.039109</td>\n",
       "      <td>54095.5</td>\n",
       "      <td>0</td>\n",
       "    </tr>\n",
       "    <tr>\n",
       "      <th>26</th>\n",
       "      <td>Coral Gables, FL</td>\n",
       "      <td>0.037266</td>\n",
       "      <td>48000.0</td>\n",
       "      <td>0</td>\n",
       "    </tr>\n",
       "    <tr>\n",
       "      <th>11</th>\n",
       "      <td>Boston, MA</td>\n",
       "      <td>0.029993</td>\n",
       "      <td>135000.0</td>\n",
       "      <td>1</td>\n",
       "    </tr>\n",
       "    <tr>\n",
       "      <th>66</th>\n",
       "      <td>Philadelphia, PA</td>\n",
       "      <td>0.025194</td>\n",
       "      <td>148750.0</td>\n",
       "      <td>1</td>\n",
       "    </tr>\n",
       "    <tr>\n",
       "      <th>70</th>\n",
       "      <td>Pleasanton, CA</td>\n",
       "      <td>0.021447</td>\n",
       "      <td>187500.0</td>\n",
       "      <td>1</td>\n",
       "    </tr>\n",
       "    <tr>\n",
       "      <th>68</th>\n",
       "      <td>Pittsburgh, PA</td>\n",
       "      <td>0.020785</td>\n",
       "      <td>57500.0</td>\n",
       "      <td>0</td>\n",
       "    </tr>\n",
       "    <tr>\n",
       "      <th>56</th>\n",
       "      <td>Mountain View, CA</td>\n",
       "      <td>0.019403</td>\n",
       "      <td>170000.0</td>\n",
       "      <td>1</td>\n",
       "    </tr>\n",
       "    <tr>\n",
       "      <th>41</th>\n",
       "      <td>Houston, TX</td>\n",
       "      <td>0.016799</td>\n",
       "      <td>65000.0</td>\n",
       "      <td>0</td>\n",
       "    </tr>\n",
       "    <tr>\n",
       "      <th>86</th>\n",
       "      <td>Santa Clara, CA</td>\n",
       "      <td>0.015486</td>\n",
       "      <td>125000.0</td>\n",
       "      <td>1</td>\n",
       "    </tr>\n",
       "    <tr>\n",
       "      <th>5</th>\n",
       "      <td>Austin, TX</td>\n",
       "      <td>0.014462</td>\n",
       "      <td>90000.0</td>\n",
       "      <td>0</td>\n",
       "    </tr>\n",
       "    <tr>\n",
       "      <th>89</th>\n",
       "      <td>Seattle, WA</td>\n",
       "      <td>0.014394</td>\n",
       "      <td>121250.0</td>\n",
       "      <td>1</td>\n",
       "    </tr>\n",
       "  </tbody>\n",
       "</table>\n",
       "</div>"
      ],
      "text/plain": [
       "              feature  importance  median_salary  over_or_under\n",
       "48      Manhattan, NY    0.091707        76143.0              0\n",
       "58       New York, NY    0.089924       135000.0              1\n",
       "83       San Jose, CA    0.047800       162500.0              1\n",
       "82  San Francisco, CA    0.046551       162500.0              1\n",
       "93      St. Louis, MO    0.039109        54095.5              0\n",
       "26   Coral Gables, FL    0.037266        48000.0              0\n",
       "11         Boston, MA    0.029993       135000.0              1\n",
       "66   Philadelphia, PA    0.025194       148750.0              1\n",
       "70     Pleasanton, CA    0.021447       187500.0              1\n",
       "68     Pittsburgh, PA    0.020785        57500.0              0\n",
       "56  Mountain View, CA    0.019403       170000.0              1\n",
       "41        Houston, TX    0.016799        65000.0              0\n",
       "86    Santa Clara, CA    0.015486       125000.0              1\n",
       "5          Austin, TX    0.014462        90000.0              0\n",
       "89        Seattle, WA    0.014394       121250.0              1"
      ]
     },
     "execution_count": 23,
     "metadata": {},
     "output_type": "execute_result"
    }
   ],
   "source": [
    "feature_importances = pd.DataFrame(rfc.feature_importances_,\n",
    "                                   index = X_city.columns).reset_index()\n",
    "feature_importances.columns = ['feature', 'importance']\n",
    "\n",
    "feature_medians = []\n",
    "for i in X_city.columns:\n",
    "    feature_medians.append(np.median(salaries[salaries.city == i].salary))\n",
    "\n",
    "feature_importances['median_salary'] = feature_medians\n",
    "feature_importances['over_or_under'] = [1 if i > median_salary else 0 for i in feature_importances.median_salary]\n",
    "\n",
    "feature_importances.sort_values('importance', ascending=False).head(15)"
   ]
  },
  {
   "cell_type": "markdown",
   "metadata": {},
   "source": [
    "## Summary Count Vectorizer"
   ]
  },
  {
   "cell_type": "code",
   "execution_count": 24,
   "metadata": {
    "collapsed": true
   },
   "outputs": [],
   "source": [
    "from sklearn.feature_extraction.text import CountVectorizer, HashingVectorizer, TfidfVectorizer"
   ]
  },
  {
   "cell_type": "code",
   "execution_count": 25,
   "metadata": {
    "focus": false,
    "id": "4239e458-28bd-4675-8db3-c1d9c02b9854"
   },
   "outputs": [],
   "source": [
    "salaries_w_desc = salaries[salaries.summary.notnull()]\n",
    "\n",
    "X_summ = salaries_w_desc.summary\n",
    "y_summ = salaries_w_desc.high_salary"
   ]
  },
  {
   "cell_type": "code",
   "execution_count": 26,
   "metadata": {
    "focus": false,
    "id": "fec80936-37bc-4922-89bd-b5d615566c9c"
   },
   "outputs": [
    {
     "data": {
      "text/plain": [
       "CountVectorizer(analyzer=u'word', binary=False, decode_error=u'strict',\n",
       "        dtype=<type 'numpy.int64'>, encoding=u'utf-8', input=u'content',\n",
       "        lowercase=True, max_df=1.0, max_features=None, min_df=1,\n",
       "        ngram_range=(1, 1), preprocessor=None, stop_words='english',\n",
       "        strip_accents=None, token_pattern=u'(?u)\\\\b\\\\w\\\\w+\\\\b',\n",
       "        tokenizer=None, vocabulary=None)"
      ]
     },
     "execution_count": 26,
     "metadata": {},
     "output_type": "execute_result"
    }
   ],
   "source": [
    "cv = CountVectorizer(stop_words=\"english\")\n",
    "cv.fit(X_summ)"
   ]
  },
  {
   "cell_type": "code",
   "execution_count": 27,
   "metadata": {},
   "outputs": [
    {
     "data": {
      "text/plain": [
       "1810"
      ]
     },
     "execution_count": 27,
     "metadata": {},
     "output_type": "execute_result"
    }
   ],
   "source": [
    "len(cv.get_feature_names())"
   ]
  },
  {
   "cell_type": "code",
   "execution_count": 28,
   "metadata": {
    "collapsed": true
   },
   "outputs": [],
   "source": [
    "X_summ_trans = pd.DataFrame(cv.transform(X_summ).todense(), columns=cv.get_feature_names())"
   ]
  },
  {
   "cell_type": "code",
   "execution_count": 29,
   "metadata": {},
   "outputs": [],
   "source": [
    "X_train, X_test, y_train, y_test = train_test_split(np.asmatrix(X_summ_trans), y_summ, test_size=0.3,\n",
    "                                                    random_state=59, stratify=y_summ)"
   ]
  },
  {
   "cell_type": "code",
   "execution_count": 30,
   "metadata": {},
   "outputs": [],
   "source": [
    "# show df\n",
    "# X_train_trans.transpose().sort_values(0, ascending=False).head(10).transpose()\n",
    "# sorting by most frequent words in doc 0, showing first 10 words"
   ]
  },
  {
   "cell_type": "code",
   "execution_count": 32,
   "metadata": {},
   "outputs": [
    {
     "data": {
      "text/plain": [
       "data           491\n",
       "learning       135\n",
       "machine        123\n",
       "scientist      102\n",
       "scientists      96\n",
       "analytics       95\n",
       "team            85\n",
       "health          77\n",
       "experience      75\n",
       "research        70\n",
       "analysis        50\n",
       "statistical     47\n",
       "science         47\n",
       "looking         44\n",
       "clinical        39\n",
       "python          38\n",
       "project         36\n",
       "modeling        34\n",
       "work            34\n",
       "develop         33\n",
       "dtype: int64"
      ]
     },
     "execution_count": 32,
     "metadata": {},
     "output_type": "execute_result"
    }
   ],
   "source": [
    "word_counts = X_summ_trans.sum(axis=0)\n",
    "word_counts.sort_values(ascending = False).head(20)"
   ]
  },
  {
   "cell_type": "code",
   "execution_count": 33,
   "metadata": {
    "collapsed": true
   },
   "outputs": [],
   "source": [
    "word_counts.to_csv('../csv/indeed-words.csv', encoding='utf-8')"
   ]
  },
  {
   "cell_type": "code",
   "execution_count": 34,
   "metadata": {
    "collapsed": true
   },
   "outputs": [],
   "source": [
    "# X_train and X_test are already transformed\n",
    "\n",
    "# X_test_trans = pd.DataFrame(cv.transform(X_test).todense(), columns=cv.get_feature_names())\n",
    "# X_trans = pd.DataFrame(cv.transform(X_summ).todense(), columns=cv.get_feature_names())"
   ]
  },
  {
   "cell_type": "code",
   "execution_count": 35,
   "metadata": {},
   "outputs": [
    {
     "name": "stdout",
     "output_type": "stream",
     "text": [
      "Accuracy Score: 0.832\n",
      "Cross Validation Score: 0.78 ± 0.077\n"
     ]
    }
   ],
   "source": [
    "rfc = RandomForestClassifier(200, random_state=59)\n",
    "rfc.fit(X_train, y_train)\n",
    "\n",
    "rfc_pred = rfc.predict(X_test)\n",
    "acc = accuracy_score(y_test, rfc_pred)\n",
    "print \"Accuracy Score:\", acc.round(3)\n",
    "\n",
    "s = cross_val_score(rfc, X_summ_trans.as_matrix(), y_summ.as_matrix(), cv=10, n_jobs=-1)\n",
    "print \"Cross Validation Score: {:0.3} ± {:0.3}\".format(s.mean().round(3), s.std().round(3))"
   ]
  },
  {
   "cell_type": "code",
   "execution_count": 37,
   "metadata": {},
   "outputs": [
    {
     "data": {
      "text/html": [
       "<div>\n",
       "<style>\n",
       "    .dataframe thead tr:only-child th {\n",
       "        text-align: right;\n",
       "    }\n",
       "\n",
       "    .dataframe thead th {\n",
       "        text-align: left;\n",
       "    }\n",
       "\n",
       "    .dataframe tbody tr th {\n",
       "        vertical-align: top;\n",
       "    }\n",
       "</style>\n",
       "<table border=\"1\" class=\"dataframe\">\n",
       "  <thead>\n",
       "    <tr style=\"text-align: right;\">\n",
       "      <th></th>\n",
       "      <th>feature</th>\n",
       "      <th>importance</th>\n",
       "      <th>median_salary</th>\n",
       "      <th>mean_salary</th>\n",
       "      <th>over_or_under</th>\n",
       "    </tr>\n",
       "  </thead>\n",
       "  <tbody>\n",
       "    <tr>\n",
       "      <th>979</th>\n",
       "      <td>machine</td>\n",
       "      <td>0.039811</td>\n",
       "      <td>135000.00</td>\n",
       "      <td>140627.310185</td>\n",
       "      <td>1</td>\n",
       "    </tr>\n",
       "    <tr>\n",
       "      <th>934</th>\n",
       "      <td>learning</td>\n",
       "      <td>0.039283</td>\n",
       "      <td>140000.00</td>\n",
       "      <td>142024.770270</td>\n",
       "      <td>1</td>\n",
       "    </tr>\n",
       "    <tr>\n",
       "      <th>432</th>\n",
       "      <td>data</td>\n",
       "      <td>0.017486</td>\n",
       "      <td>125000.00</td>\n",
       "      <td>121076.754296</td>\n",
       "      <td>1</td>\n",
       "    </tr>\n",
       "    <tr>\n",
       "      <th>1445</th>\n",
       "      <td>role</td>\n",
       "      <td>0.011246</td>\n",
       "      <td>130000.00</td>\n",
       "      <td>123617.647059</td>\n",
       "      <td>1</td>\n",
       "    </tr>\n",
       "    <tr>\n",
       "      <th>754</th>\n",
       "      <td>health</td>\n",
       "      <td>0.009099</td>\n",
       "      <td>75400.00</td>\n",
       "      <td>84945.204918</td>\n",
       "      <td>0</td>\n",
       "    </tr>\n",
       "    <tr>\n",
       "      <th>1409</th>\n",
       "      <td>research</td>\n",
       "      <td>0.009051</td>\n",
       "      <td>78374.75</td>\n",
       "      <td>88871.125000</td>\n",
       "      <td>0</td>\n",
       "    </tr>\n",
       "    <tr>\n",
       "      <th>108</th>\n",
       "      <td>analytics</td>\n",
       "      <td>0.008713</td>\n",
       "      <td>125000.00</td>\n",
       "      <td>129306.620482</td>\n",
       "      <td>1</td>\n",
       "    </tr>\n",
       "    <tr>\n",
       "      <th>568</th>\n",
       "      <td>engineer</td>\n",
       "      <td>0.008713</td>\n",
       "      <td>130000.00</td>\n",
       "      <td>128050.476190</td>\n",
       "      <td>1</td>\n",
       "    </tr>\n",
       "    <tr>\n",
       "      <th>1336</th>\n",
       "      <td>python</td>\n",
       "      <td>0.008018</td>\n",
       "      <td>135000.00</td>\n",
       "      <td>140526.315789</td>\n",
       "      <td>1</td>\n",
       "    </tr>\n",
       "    <tr>\n",
       "      <th>1728</th>\n",
       "      <td>university</td>\n",
       "      <td>0.007678</td>\n",
       "      <td>65977.00</td>\n",
       "      <td>65709.423077</td>\n",
       "      <td>0</td>\n",
       "    </tr>\n",
       "    <tr>\n",
       "      <th>621</th>\n",
       "      <td>experience</td>\n",
       "      <td>0.007582</td>\n",
       "      <td>125000.00</td>\n",
       "      <td>122304.462025</td>\n",
       "      <td>1</td>\n",
       "    </tr>\n",
       "    <tr>\n",
       "      <th>927</th>\n",
       "      <td>lead</td>\n",
       "      <td>0.007270</td>\n",
       "      <td>130000.00</td>\n",
       "      <td>127606.688889</td>\n",
       "      <td>1</td>\n",
       "    </tr>\n",
       "    <tr>\n",
       "      <th>1505</th>\n",
       "      <td>senior</td>\n",
       "      <td>0.006810</td>\n",
       "      <td>150000.00</td>\n",
       "      <td>141447.879310</td>\n",
       "      <td>1</td>\n",
       "    </tr>\n",
       "    <tr>\n",
       "      <th>105</th>\n",
       "      <td>analysts</td>\n",
       "      <td>0.006507</td>\n",
       "      <td>190000.00</td>\n",
       "      <td>175000.000000</td>\n",
       "      <td>1</td>\n",
       "    </tr>\n",
       "    <tr>\n",
       "      <th>1735</th>\n",
       "      <td>use</td>\n",
       "      <td>0.006147</td>\n",
       "      <td>117500.00</td>\n",
       "      <td>126198.111111</td>\n",
       "      <td>1</td>\n",
       "    </tr>\n",
       "    <tr>\n",
       "      <th>74</th>\n",
       "      <td>advanced</td>\n",
       "      <td>0.005910</td>\n",
       "      <td>133750.00</td>\n",
       "      <td>134045.825000</td>\n",
       "      <td>1</td>\n",
       "    </tr>\n",
       "    <tr>\n",
       "      <th>1475</th>\n",
       "      <td>scientist</td>\n",
       "      <td>0.005828</td>\n",
       "      <td>127500.00</td>\n",
       "      <td>125886.199438</td>\n",
       "      <td>1</td>\n",
       "    </tr>\n",
       "    <tr>\n",
       "      <th>1597</th>\n",
       "      <td>statistics</td>\n",
       "      <td>0.005825</td>\n",
       "      <td>142500.00</td>\n",
       "      <td>138230.750000</td>\n",
       "      <td>1</td>\n",
       "    </tr>\n",
       "    <tr>\n",
       "      <th>445</th>\n",
       "      <td>deep</td>\n",
       "      <td>0.005687</td>\n",
       "      <td>157500.00</td>\n",
       "      <td>150681.818182</td>\n",
       "      <td>1</td>\n",
       "    </tr>\n",
       "    <tr>\n",
       "      <th>88</th>\n",
       "      <td>algorithms</td>\n",
       "      <td>0.005641</td>\n",
       "      <td>167500.00</td>\n",
       "      <td>167692.307692</td>\n",
       "      <td>1</td>\n",
       "    </tr>\n",
       "  </tbody>\n",
       "</table>\n",
       "</div>"
      ],
      "text/plain": [
       "         feature  importance  median_salary    mean_salary  over_or_under\n",
       "979      machine    0.039811      135000.00  140627.310185              1\n",
       "934     learning    0.039283      140000.00  142024.770270              1\n",
       "432         data    0.017486      125000.00  121076.754296              1\n",
       "1445        role    0.011246      130000.00  123617.647059              1\n",
       "754       health    0.009099       75400.00   84945.204918              0\n",
       "1409    research    0.009051       78374.75   88871.125000              0\n",
       "108    analytics    0.008713      125000.00  129306.620482              1\n",
       "568     engineer    0.008713      130000.00  128050.476190              1\n",
       "1336      python    0.008018      135000.00  140526.315789              1\n",
       "1728  university    0.007678       65977.00   65709.423077              0\n",
       "621   experience    0.007582      125000.00  122304.462025              1\n",
       "927         lead    0.007270      130000.00  127606.688889              1\n",
       "1505      senior    0.006810      150000.00  141447.879310              1\n",
       "105     analysts    0.006507      190000.00  175000.000000              1\n",
       "1735         use    0.006147      117500.00  126198.111111              1\n",
       "74      advanced    0.005910      133750.00  134045.825000              1\n",
       "1475   scientist    0.005828      127500.00  125886.199438              1\n",
       "1597  statistics    0.005825      142500.00  138230.750000              1\n",
       "445         deep    0.005687      157500.00  150681.818182              1\n",
       "88    algorithms    0.005641      167500.00  167692.307692              1"
      ]
     },
     "execution_count": 37,
     "metadata": {},
     "output_type": "execute_result"
    }
   ],
   "source": [
    "feature_importances = pd.DataFrame(rfc.feature_importances_,\n",
    "                                   index = X_summ_trans.columns).reset_index()\n",
    "feature_importances.columns = ['feature', 'importance']\n",
    "\n",
    "feature_medians = []\n",
    "feature_means = []\n",
    "for i in X_summ_trans.columns:\n",
    "    feature_medians.append(np.median(salaries_w_desc[salaries_w_desc.summary.str.lower().str.contains(i)].salary))\n",
    "    feature_means.append(np.mean(salaries_w_desc[salaries_w_desc.summary.str.lower().str.contains(i)].salary))\n",
    "\n",
    "\n",
    "feature_importances['median_salary'] = feature_medians\n",
    "feature_importances['mean_salary'] = feature_means\n",
    "feature_importances['over_or_under'] = [1 if i > median_salary else 0 for i in feature_importances.median_salary]\n",
    "\n",
    "feature_importances.sort_values('importance', ascending=False).head(20)"
   ]
  },
  {
   "cell_type": "markdown",
   "metadata": {
    "collapsed": true
   },
   "source": [
    "## Title Count Vectorizer"
   ]
  },
  {
   "cell_type": "code",
   "execution_count": 38,
   "metadata": {
    "collapsed": true
   },
   "outputs": [],
   "source": [
    "salaries_w_desc = salaries[salaries.summary.notnull()]\n",
    "\n",
    "X_title = salaries_w_desc.title\n",
    "y_title = salaries_w_desc.high_salary"
   ]
  },
  {
   "cell_type": "code",
   "execution_count": 39,
   "metadata": {},
   "outputs": [
    {
     "data": {
      "text/plain": [
       "CountVectorizer(analyzer=u'word', binary=False, decode_error=u'strict',\n",
       "        dtype=<type 'numpy.int64'>, encoding=u'utf-8', input=u'content',\n",
       "        lowercase=True, max_df=1.0, max_features=None, min_df=1,\n",
       "        ngram_range=(1, 1), preprocessor=None, stop_words='english',\n",
       "        strip_accents=None, token_pattern=u'(?u)\\\\b\\\\w\\\\w+\\\\b',\n",
       "        tokenizer=None, vocabulary=None)"
      ]
     },
     "execution_count": 39,
     "metadata": {},
     "output_type": "execute_result"
    }
   ],
   "source": [
    "cv = CountVectorizer(stop_words=\"english\")\n",
    "cv.fit(X_title)"
   ]
  },
  {
   "cell_type": "code",
   "execution_count": 40,
   "metadata": {
    "collapsed": true
   },
   "outputs": [],
   "source": [
    "X_title_trans = pd.DataFrame(cv.transform(X_title).todense(), columns=cv.get_feature_names())"
   ]
  },
  {
   "cell_type": "code",
   "execution_count": 41,
   "metadata": {
    "collapsed": true
   },
   "outputs": [],
   "source": [
    "X_train, X_test, y_train, y_test = train_test_split(X_title_trans, y_title, test_size=0.3, random_state=59)"
   ]
  },
  {
   "cell_type": "code",
   "execution_count": 42,
   "metadata": {},
   "outputs": [
    {
     "name": "stdout",
     "output_type": "stream",
     "text": [
      "Accuracy Score: 0.812\n",
      "Cross Validation Score: 0.821 ± 0.053\n"
     ]
    }
   ],
   "source": [
    "rfc = RandomForestClassifier(200, random_state=59)\n",
    "rfc.fit(X_train, y_train)\n",
    "\n",
    "rfc_pred = rfc.predict(X_test)\n",
    "acc = accuracy_score(y_test, rfc_pred)\n",
    "print \"Accuracy Score:\", acc.round(3)\n",
    "\n",
    "s = cross_val_score(rfc, X_title_trans.as_matrix(), y_title.as_matrix(), cv=10, n_jobs=-1)\n",
    "print \"Cross Validation Score: {:0.3} ± {:0.3}\".format(s.mean().round(3), s.std().round(3))"
   ]
  },
  {
   "cell_type": "code",
   "execution_count": 43,
   "metadata": {},
   "outputs": [
    {
     "data": {
      "text/html": [
       "<div>\n",
       "<style>\n",
       "    .dataframe thead tr:only-child th {\n",
       "        text-align: right;\n",
       "    }\n",
       "\n",
       "    .dataframe thead th {\n",
       "        text-align: left;\n",
       "    }\n",
       "\n",
       "    .dataframe tbody tr th {\n",
       "        vertical-align: top;\n",
       "    }\n",
       "</style>\n",
       "<table border=\"1\" class=\"dataframe\">\n",
       "  <thead>\n",
       "    <tr style=\"text-align: right;\">\n",
       "      <th></th>\n",
       "      <th>feature</th>\n",
       "      <th>importance</th>\n",
       "      <th>median_salary</th>\n",
       "      <th>mean_salary</th>\n",
       "      <th>over_or_under</th>\n",
       "    </tr>\n",
       "  </thead>\n",
       "  <tbody>\n",
       "    <tr>\n",
       "      <th>115</th>\n",
       "      <td>data</td>\n",
       "      <td>0.114136</td>\n",
       "      <td>138750.0</td>\n",
       "      <td>136604.887500</td>\n",
       "      <td>1</td>\n",
       "    </tr>\n",
       "    <tr>\n",
       "      <th>373</th>\n",
       "      <td>research</td>\n",
       "      <td>0.050251</td>\n",
       "      <td>60000.0</td>\n",
       "      <td>73759.431818</td>\n",
       "      <td>0</td>\n",
       "    </tr>\n",
       "    <tr>\n",
       "      <th>393</th>\n",
       "      <td>scientist</td>\n",
       "      <td>0.042662</td>\n",
       "      <td>130000.0</td>\n",
       "      <td>128084.261538</td>\n",
       "      <td>1</td>\n",
       "    </tr>\n",
       "    <tr>\n",
       "      <th>150</th>\n",
       "      <td>engineer</td>\n",
       "      <td>0.041488</td>\n",
       "      <td>135000.0</td>\n",
       "      <td>136137.059322</td>\n",
       "      <td>1</td>\n",
       "    </tr>\n",
       "    <tr>\n",
       "      <th>28</th>\n",
       "      <td>analyst</td>\n",
       "      <td>0.038988</td>\n",
       "      <td>75000.0</td>\n",
       "      <td>83395.379808</td>\n",
       "      <td>0</td>\n",
       "    </tr>\n",
       "    <tr>\n",
       "      <th>251</th>\n",
       "      <td>learning</td>\n",
       "      <td>0.034745</td>\n",
       "      <td>145000.0</td>\n",
       "      <td>145178.571429</td>\n",
       "      <td>1</td>\n",
       "    </tr>\n",
       "    <tr>\n",
       "      <th>397</th>\n",
       "      <td>senior</td>\n",
       "      <td>0.031822</td>\n",
       "      <td>142500.0</td>\n",
       "      <td>137266.979730</td>\n",
       "      <td>1</td>\n",
       "    </tr>\n",
       "    <tr>\n",
       "      <th>363</th>\n",
       "      <td>quantitative</td>\n",
       "      <td>0.028956</td>\n",
       "      <td>145000.0</td>\n",
       "      <td>150111.111111</td>\n",
       "      <td>1</td>\n",
       "    </tr>\n",
       "    <tr>\n",
       "      <th>263</th>\n",
       "      <td>machine</td>\n",
       "      <td>0.026596</td>\n",
       "      <td>143750.0</td>\n",
       "      <td>144187.500000</td>\n",
       "      <td>1</td>\n",
       "    </tr>\n",
       "    <tr>\n",
       "      <th>131</th>\n",
       "      <td>director</td>\n",
       "      <td>0.019587</td>\n",
       "      <td>163200.0</td>\n",
       "      <td>162867.647059</td>\n",
       "      <td>1</td>\n",
       "    </tr>\n",
       "    <tr>\n",
       "      <th>248</th>\n",
       "      <td>lead</td>\n",
       "      <td>0.017891</td>\n",
       "      <td>147500.0</td>\n",
       "      <td>150430.090909</td>\n",
       "      <td>1</td>\n",
       "    </tr>\n",
       "    <tr>\n",
       "      <th>390</th>\n",
       "      <td>science</td>\n",
       "      <td>0.012993</td>\n",
       "      <td>156600.0</td>\n",
       "      <td>151061.333333</td>\n",
       "      <td>1</td>\n",
       "    </tr>\n",
       "    <tr>\n",
       "      <th>342</th>\n",
       "      <td>principal</td>\n",
       "      <td>0.010963</td>\n",
       "      <td>157500.0</td>\n",
       "      <td>149932.433333</td>\n",
       "      <td>1</td>\n",
       "    </tr>\n",
       "    <tr>\n",
       "      <th>416</th>\n",
       "      <td>sr</td>\n",
       "      <td>0.010700</td>\n",
       "      <td>102000.0</td>\n",
       "      <td>118005.264706</td>\n",
       "      <td>0</td>\n",
       "    </tr>\n",
       "    <tr>\n",
       "      <th>267</th>\n",
       "      <td>manager</td>\n",
       "      <td>0.010291</td>\n",
       "      <td>90000.0</td>\n",
       "      <td>103603.616667</td>\n",
       "      <td>0</td>\n",
       "    </tr>\n",
       "    <tr>\n",
       "      <th>300</th>\n",
       "      <td>nlp</td>\n",
       "      <td>0.009805</td>\n",
       "      <td>155000.0</td>\n",
       "      <td>153000.000000</td>\n",
       "      <td>1</td>\n",
       "    </tr>\n",
       "    <tr>\n",
       "      <th>124</th>\n",
       "      <td>developer</td>\n",
       "      <td>0.009236</td>\n",
       "      <td>100000.0</td>\n",
       "      <td>113652.250000</td>\n",
       "      <td>0</td>\n",
       "    </tr>\n",
       "    <tr>\n",
       "      <th>418</th>\n",
       "      <td>staff</td>\n",
       "      <td>0.008642</td>\n",
       "      <td>54095.5</td>\n",
       "      <td>75229.750000</td>\n",
       "      <td>0</td>\n",
       "    </tr>\n",
       "    <tr>\n",
       "      <th>413</th>\n",
       "      <td>spark</td>\n",
       "      <td>0.008477</td>\n",
       "      <td>92500.0</td>\n",
       "      <td>94166.666667</td>\n",
       "      <td>0</td>\n",
       "    </tr>\n",
       "    <tr>\n",
       "      <th>233</th>\n",
       "      <td>java</td>\n",
       "      <td>0.008447</td>\n",
       "      <td>122500.0</td>\n",
       "      <td>139062.500000</td>\n",
       "      <td>1</td>\n",
       "    </tr>\n",
       "  </tbody>\n",
       "</table>\n",
       "</div>"
      ],
      "text/plain": [
       "          feature  importance  median_salary    mean_salary  over_or_under\n",
       "115          data    0.114136       138750.0  136604.887500              1\n",
       "373      research    0.050251        60000.0   73759.431818              0\n",
       "393     scientist    0.042662       130000.0  128084.261538              1\n",
       "150      engineer    0.041488       135000.0  136137.059322              1\n",
       "28        analyst    0.038988        75000.0   83395.379808              0\n",
       "251      learning    0.034745       145000.0  145178.571429              1\n",
       "397        senior    0.031822       142500.0  137266.979730              1\n",
       "363  quantitative    0.028956       145000.0  150111.111111              1\n",
       "263       machine    0.026596       143750.0  144187.500000              1\n",
       "131      director    0.019587       163200.0  162867.647059              1\n",
       "248          lead    0.017891       147500.0  150430.090909              1\n",
       "390       science    0.012993       156600.0  151061.333333              1\n",
       "342     principal    0.010963       157500.0  149932.433333              1\n",
       "416            sr    0.010700       102000.0  118005.264706              0\n",
       "267       manager    0.010291        90000.0  103603.616667              0\n",
       "300           nlp    0.009805       155000.0  153000.000000              1\n",
       "124     developer    0.009236       100000.0  113652.250000              0\n",
       "418         staff    0.008642        54095.5   75229.750000              0\n",
       "413         spark    0.008477        92500.0   94166.666667              0\n",
       "233          java    0.008447       122500.0  139062.500000              1"
      ]
     },
     "execution_count": 43,
     "metadata": {},
     "output_type": "execute_result"
    }
   ],
   "source": [
    "feature_importances = pd.DataFrame(rfc.feature_importances_,\n",
    "                                   index = X_title_trans.columns).reset_index()\n",
    "feature_importances.columns = ['feature', 'importance']\n",
    "\n",
    "feature_medians = []\n",
    "feature_means = []\n",
    "for i in X_title_trans.columns:\n",
    "    feature_medians.append(np.median(salaries_w_desc[salaries_w_desc.title.str.lower().str.contains(i)].salary))\n",
    "    feature_means.append(np.mean(salaries_w_desc[salaries_w_desc.title.str.lower().str.contains(i)].salary))\n",
    "\n",
    "\n",
    "feature_importances['median_salary'] = feature_medians\n",
    "feature_importances['mean_salary'] = feature_means\n",
    "feature_importances['over_or_under'] = [1 if i > median_salary else 0 for i in feature_importances.median_salary]\n",
    "\n",
    "feature_importances.sort_values('importance', ascending=False).head(20)"
   ]
  },
  {
   "cell_type": "markdown",
   "metadata": {},
   "source": [
    "# Combining Title CV, Summary CV, and Location"
   ]
  },
  {
   "cell_type": "code",
   "execution_count": 44,
   "metadata": {
    "collapsed": true
   },
   "outputs": [],
   "source": [
    "salaries_w_desc = salaries[salaries.summary.notnull()].reset_index()\n",
    "city_dummies = pd.get_dummies(salaries_w_desc.city)\n",
    "\n",
    "X = pd.concat([city_dummies, X_title_trans, X_summ_trans], axis=1)\n",
    "y = salaries_w_desc.high_salary"
   ]
  },
  {
   "cell_type": "code",
   "execution_count": 45,
   "metadata": {},
   "outputs": [
    {
     "name": "stdout",
     "output_type": "stream",
     "text": [
      "(495, 2387)\n",
      "(495,)\n"
     ]
    }
   ],
   "source": [
    "print X.shape\n",
    "print y.shape"
   ]
  },
  {
   "cell_type": "code",
   "execution_count": 46,
   "metadata": {},
   "outputs": [],
   "source": [
    "X_train, X_test, y_train, y_test = train_test_split(X.as_matrix(), y, test_size=0.3, random_state=68, stratify=y)"
   ]
  },
  {
   "cell_type": "code",
   "execution_count": 47,
   "metadata": {},
   "outputs": [
    {
     "name": "stdout",
     "output_type": "stream",
     "text": [
      "Accuracy Score: 0.792\n",
      "Cross Validation Score: 0.826 ± 0.068\n"
     ]
    }
   ],
   "source": [
    "rfc = RandomForestClassifier(500, random_state=59)\n",
    "rfc.fit(X_train, y_train)\n",
    "\n",
    "rfc_pred = rfc.predict(X_test)\n",
    "acc = accuracy_score(y_test, rfc_pred)\n",
    "print \"Accuracy Score:\", acc.round(3)\n",
    "\n",
    "s = cross_val_score(rfc, X.as_matrix(), y.as_matrix(), cv=10, n_jobs=-1)\n",
    "print \"Cross Validation Score: {:0.3} ± {:0.3}\".format(s.mean().round(3), s.std().round(3))"
   ]
  },
  {
   "cell_type": "code",
   "execution_count": 48,
   "metadata": {},
   "outputs": [
    {
     "data": {
      "text/html": [
       "<div>\n",
       "<style>\n",
       "    .dataframe thead tr:only-child th {\n",
       "        text-align: right;\n",
       "    }\n",
       "\n",
       "    .dataframe thead th {\n",
       "        text-align: left;\n",
       "    }\n",
       "\n",
       "    .dataframe tbody tr th {\n",
       "        vertical-align: top;\n",
       "    }\n",
       "</style>\n",
       "<table border=\"1\" class=\"dataframe\">\n",
       "  <thead>\n",
       "    <tr style=\"text-align: right;\">\n",
       "      <th></th>\n",
       "      <th>feature</th>\n",
       "      <th>importance</th>\n",
       "      <th>median_salary</th>\n",
       "      <th>over_or_under</th>\n",
       "    </tr>\n",
       "  </thead>\n",
       "  <tbody>\n",
       "    <tr>\n",
       "      <th>211</th>\n",
       "      <td>data</td>\n",
       "      <td>0.051987</td>\n",
       "      <td>138750.00</td>\n",
       "      <td>1</td>\n",
       "    </tr>\n",
       "    <tr>\n",
       "      <th>1511</th>\n",
       "      <td>learning</td>\n",
       "      <td>0.034643</td>\n",
       "      <td>140000.00</td>\n",
       "      <td>1</td>\n",
       "    </tr>\n",
       "    <tr>\n",
       "      <th>1556</th>\n",
       "      <td>machine</td>\n",
       "      <td>0.027272</td>\n",
       "      <td>135000.00</td>\n",
       "      <td>1</td>\n",
       "    </tr>\n",
       "    <tr>\n",
       "      <th>489</th>\n",
       "      <td>scientist</td>\n",
       "      <td>0.024844</td>\n",
       "      <td>130000.00</td>\n",
       "      <td>1</td>\n",
       "    </tr>\n",
       "    <tr>\n",
       "      <th>1009</th>\n",
       "      <td>data</td>\n",
       "      <td>0.016558</td>\n",
       "      <td>125000.00</td>\n",
       "      <td>1</td>\n",
       "    </tr>\n",
       "    <tr>\n",
       "      <th>124</th>\n",
       "      <td>analyst</td>\n",
       "      <td>0.015555</td>\n",
       "      <td>75000.00</td>\n",
       "      <td>0</td>\n",
       "    </tr>\n",
       "    <tr>\n",
       "      <th>347</th>\n",
       "      <td>learning</td>\n",
       "      <td>0.014885</td>\n",
       "      <td>145000.00</td>\n",
       "      <td>1</td>\n",
       "    </tr>\n",
       "    <tr>\n",
       "      <th>469</th>\n",
       "      <td>research</td>\n",
       "      <td>0.014808</td>\n",
       "      <td>60000.00</td>\n",
       "      <td>0</td>\n",
       "    </tr>\n",
       "    <tr>\n",
       "      <th>359</th>\n",
       "      <td>machine</td>\n",
       "      <td>0.012412</td>\n",
       "      <td>143750.00</td>\n",
       "      <td>1</td>\n",
       "    </tr>\n",
       "    <tr>\n",
       "      <th>55</th>\n",
       "      <td>New York, NY</td>\n",
       "      <td>0.008109</td>\n",
       "      <td>135000.00</td>\n",
       "      <td>1</td>\n",
       "    </tr>\n",
       "    <tr>\n",
       "      <th>2235</th>\n",
       "      <td>team</td>\n",
       "      <td>0.007710</td>\n",
       "      <td>135000.00</td>\n",
       "      <td>1</td>\n",
       "    </tr>\n",
       "    <tr>\n",
       "      <th>246</th>\n",
       "      <td>engineer</td>\n",
       "      <td>0.007351</td>\n",
       "      <td>135000.00</td>\n",
       "      <td>1</td>\n",
       "    </tr>\n",
       "    <tr>\n",
       "      <th>682</th>\n",
       "      <td>analysts</td>\n",
       "      <td>0.007075</td>\n",
       "      <td>190000.00</td>\n",
       "      <td>1</td>\n",
       "    </tr>\n",
       "    <tr>\n",
       "      <th>493</th>\n",
       "      <td>senior</td>\n",
       "      <td>0.006694</td>\n",
       "      <td>142500.00</td>\n",
       "      <td>1</td>\n",
       "    </tr>\n",
       "    <tr>\n",
       "      <th>698</th>\n",
       "      <td>applying</td>\n",
       "      <td>0.006244</td>\n",
       "      <td>120000.00</td>\n",
       "      <td>1</td>\n",
       "    </tr>\n",
       "    <tr>\n",
       "      <th>1331</th>\n",
       "      <td>health</td>\n",
       "      <td>0.006209</td>\n",
       "      <td>75400.00</td>\n",
       "      <td>0</td>\n",
       "    </tr>\n",
       "    <tr>\n",
       "      <th>2312</th>\n",
       "      <td>use</td>\n",
       "      <td>0.006084</td>\n",
       "      <td>117500.00</td>\n",
       "      <td>1</td>\n",
       "    </tr>\n",
       "    <tr>\n",
       "      <th>685</th>\n",
       "      <td>analytics</td>\n",
       "      <td>0.005875</td>\n",
       "      <td>125000.00</td>\n",
       "      <td>1</td>\n",
       "    </tr>\n",
       "    <tr>\n",
       "      <th>1913</th>\n",
       "      <td>python</td>\n",
       "      <td>0.005782</td>\n",
       "      <td>135000.00</td>\n",
       "      <td>1</td>\n",
       "    </tr>\n",
       "    <tr>\n",
       "      <th>1986</th>\n",
       "      <td>research</td>\n",
       "      <td>0.005775</td>\n",
       "      <td>78374.75</td>\n",
       "      <td>0</td>\n",
       "    </tr>\n",
       "  </tbody>\n",
       "</table>\n",
       "</div>"
      ],
      "text/plain": [
       "           feature  importance  median_salary  over_or_under\n",
       "211           data    0.051987      138750.00              1\n",
       "1511      learning    0.034643      140000.00              1\n",
       "1556       machine    0.027272      135000.00              1\n",
       "489      scientist    0.024844      130000.00              1\n",
       "1009          data    0.016558      125000.00              1\n",
       "124        analyst    0.015555       75000.00              0\n",
       "347       learning    0.014885      145000.00              1\n",
       "469       research    0.014808       60000.00              0\n",
       "359        machine    0.012412      143750.00              1\n",
       "55    New York, NY    0.008109      135000.00              1\n",
       "2235          team    0.007710      135000.00              1\n",
       "246       engineer    0.007351      135000.00              1\n",
       "682       analysts    0.007075      190000.00              1\n",
       "493         senior    0.006694      142500.00              1\n",
       "698       applying    0.006244      120000.00              1\n",
       "1331        health    0.006209       75400.00              0\n",
       "2312           use    0.006084      117500.00              1\n",
       "685      analytics    0.005875      125000.00              1\n",
       "1913        python    0.005782      135000.00              1\n",
       "1986      research    0.005775       78374.75              0"
      ]
     },
     "execution_count": 48,
     "metadata": {},
     "output_type": "execute_result"
    }
   ],
   "source": [
    "feature_importances = pd.DataFrame(rfc.feature_importances_,\n",
    "                                   index = X.columns).reset_index()\n",
    "feature_importances.columns = ['feature', 'importance']\n",
    "\n",
    "feature_medians = []\n",
    "for i in city_dummies.columns:\n",
    "    feature_medians.append(np.median(salaries[salaries.city == i].salary))\n",
    "for i in X_title_trans.columns:\n",
    "    feature_medians.append(np.median(salaries_w_desc[salaries_w_desc.title.str.lower().str.contains(i)].salary))\n",
    "for i in X_summ_trans.columns:\n",
    "    feature_medians.append(np.median(salaries_w_desc[salaries_w_desc.summary.str.lower().str.contains(i)].salary))\n",
    "\n",
    "feature_importances['median_salary'] = feature_medians\n",
    "feature_importances['over_or_under'] = [1 if i > median_salary else 0 for i in feature_importances.median_salary]\n",
    "\n",
    "feature_importances.sort_values('importance', ascending=False).head(20)"
   ]
  }
 ],
 "metadata": {
  "anaconda-cloud": {},
  "kernelspec": {
   "display_name": "Python 2",
   "language": "python",
   "name": "python2"
  },
  "language_info": {
   "codemirror_mode": {
    "name": "ipython",
    "version": 2
   },
   "file_extension": ".py",
   "mimetype": "text/x-python",
   "name": "python",
   "nbconvert_exporter": "python",
   "pygments_lexer": "ipython2",
   "version": "2.7.13"
  }
 },
 "nbformat": 4,
 "nbformat_minor": 1
}
