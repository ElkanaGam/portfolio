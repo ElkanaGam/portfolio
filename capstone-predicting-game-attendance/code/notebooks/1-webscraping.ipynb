{
 "cells": [
  {
   "cell_type": "markdown",
   "metadata": {},
   "source": [
    "# Webscraping\n",
    "\n",
    "Scraping baseball-reference for game and attendance data.\n",
    "\n",
    "Example link: http://www.baseball-reference.com/teams/HOU/2016-schedule-scores.shtml"
   ]
  },
  {
   "cell_type": "code",
   "execution_count": 1,
   "metadata": {
    "collapsed": true
   },
   "outputs": [],
   "source": [
    "import pandas as pd\n",
    "import numpy as np\n",
    "import requests\n",
    "from bs4 import BeautifulSoup\n",
    "from time import sleep\n",
    "pd.options.display.max_columns = 30"
   ]
  },
  {
   "cell_type": "code",
   "execution_count": 2,
   "metadata": {
    "collapsed": true
   },
   "outputs": [],
   "source": [
    "stad = pd.read_csv('../data/MLB-stadium-capacity.csv')"
   ]
  },
  {
   "cell_type": "code",
   "execution_count": 3,
   "metadata": {},
   "outputs": [
    {
     "data": {
      "text/plain": [
       "array(['ANA', 'ARI', 'ATL', 'BAL', 'BOS', 'CAL', 'CHC', 'CHW', 'CIN',\n",
       "       'CLE', 'COL', 'DET', 'FLA', 'HOU', 'KCR', 'LAA', 'LAD', 'MIA',\n",
       "       'MIL', 'MIN', 'MON', 'NYM', 'NYY', 'OAK', 'PHI', 'PIT', 'SDP',\n",
       "       'SEA', 'SFG', 'STL', 'TBD', 'TBR', 'TEX', 'TOR', 'WSN'], dtype=object)"
      ]
     },
     "execution_count": 3,
     "metadata": {},
     "output_type": "execute_result"
    }
   ],
   "source": [
    "teams = stad.Team.unique()\n",
    "teams\n",
    "\n",
    "# angels: CAL 1990-1996, ANA 1997-2004, LAA 2005-2016\n",
    "# marlins: FLA 1993-2011, MIA 2012-2016\n",
    "# tampa bay: TBD 1998-2007, TBR 2008-2016\n",
    "# montreal expos no longer a team\n"
   ]
  },
  {
   "cell_type": "code",
   "execution_count": 4,
   "metadata": {
    "collapsed": true
   },
   "outputs": [],
   "source": [
    "# drop at\n",
    "# drop boxscore\n",
    "# day or night into dummy variable\n",
    "## double header dummy variable\n",
    "## opening day dummy variable\n",
    "# convert gb to float\n",
    "# split record into wins and losses columns\n",
    "## runs moving average\n",
    "## runs allowed moving average\n",
    "# convert streak to integers\n",
    "# walk off dummy?"
   ]
  },
  {
   "cell_type": "code",
   "execution_count": 5,
   "metadata": {
    "collapsed": true
   },
   "outputs": [],
   "source": [
    "def get_games():\n",
    "    team_df = pd.DataFrame(columns=['date', 'box', 'team', 'at', 'opponent', 'w_or_l', 'runs', 'runs_allowed',\n",
    "                                    'innings', 'record', 'div_rank', 'gb', 'winning_pitcher', 'losing_pitcher',\n",
    "                                    'save', 'time', 'd_or_n', 'attendance', 'streak', 'double_header', 'runs_pg',\n",
    "                                    'runs_ma', 'runs_allowed_ma', 'ten_game', 'opening_day'])\n",
    "    for team in teams:\n",
    "        for year in range (1990, 2017):\n",
    "            try:\n",
    "                df = pd.DataFrame(columns=['date', 'box', 'team', 'at', 'opponent', 'w_or_l', 'runs', 'runs_allowed',\n",
    "                                           'innings', 'record', 'div_rank', 'gb', 'winning_pitcher', 'losing_pitcher',\n",
    "                                           'save', 'time', 'd_or_n', 'attendance', 'streak'])\n",
    "                html = requests.get('http://www.baseball-reference.com/teams/' + team + '/' + str(year) +\n",
    "                                    '-schedule-scores.shtml')\n",
    "                bs = BeautifulSoup(html.text, 'html.parser')\n",
    "                for game in bs.find('table', {'class':'stats_table'}).find_all('tr'):\n",
    "                    results = []\n",
    "                    for element in game.find_all('td'):\n",
    "                        results.append(element.text)\n",
    "                    if len(results) == 19:\n",
    "                        df.loc[len(df)] = results\n",
    "\n",
    "                # add double header dummy variable\n",
    "                dh = '('\n",
    "                df['double_header'] = [1 if dh in x else 0 for x in df.date]\n",
    "\n",
    "                # adjust date and convert to datetime\n",
    "                df.date = df.date.str.replace(r\"\\(.*\\)\",\"\")\n",
    "                date = []\n",
    "                for i in df.date:\n",
    "                    split = i.split(', ')\n",
    "                    date.append(split[1] + ', ' + str(year))\n",
    "                df.date = date\n",
    "                df.date = pd.to_datetime(df.date)\n",
    "\n",
    "                # shift record, div_rank, gb, streak and fill in the first value\n",
    "                df.record = df.record.shift()\n",
    "                df.record.fillna('0-0', inplace=True)\n",
    "\n",
    "                for col in ['div_rank', 'gb', 'streak']:\n",
    "                    df[col] = df[col].shift()\n",
    "                    df[col].fillna('0', inplace=True)\n",
    "\n",
    "                # rolling means for runs and runs allowed\n",
    "                df['runs_pg'] = [0 if x == min(df.date) else df[df.date < x].runs.astype(int).mean() for x in df.date]\n",
    "                df['runs_ma'] = df.runs.rolling(5).mean().shift()\n",
    "                df['runs_allowed_ma'] = df.runs_allowed.rolling(5).mean().shift()\n",
    "                df.runs_allowed_ma.fillna(df.iloc[5].runs_allowed_ma, inplace=True)\n",
    "                \n",
    "                # win_pct of last ten games\n",
    "                ten_game = [list(df.w_or_l[i-10:i]).count('W') / 10. for i in range(10, len(df))]\n",
    "                for i in range(10):\n",
    "                    ten_game.insert(0, None)\n",
    "                df['ten_game'] = ten_game\n",
    "\n",
    "                # filter down to only home games\n",
    "                df = df[~df['at'].str.contains('@')].reset_index(drop=True)\n",
    "\n",
    "                # opening day dummy variable\n",
    "                df['opening_day'] = [1 if x == min(df.date) else 0 for x in df.date]\n",
    "\n",
    "                # create one major df\n",
    "                team_df = pd.concat([team_df, df]).reset_index(drop=True)\n",
    "\n",
    "                # sleep\n",
    "                sleep(0.5)\n",
    "                \n",
    "            except:\n",
    "                pass\n",
    "    \n",
    "    # save it to csv\n",
    "    team_df.to_csv('../data/mlb-game-data-1990-2016.csv', index=False, encoding='utf-8')\n",
    "    return team_df"
   ]
  },
  {
   "cell_type": "code",
   "execution_count": 6,
   "metadata": {
    "scrolled": false
   },
   "outputs": [
    {
     "name": "stdout",
     "output_type": "stream",
     "text": [
      "CPU times: user 15min 38s, sys: 18.4 s, total: 15min 56s\n",
      "Wall time: 35min 1s\n"
     ]
    }
   ],
   "source": [
    "%time all_teams = get_games()"
   ]
  },
  {
   "cell_type": "markdown",
   "metadata": {},
   "source": [
    "### Scraping for year-by-yera information"
   ]
  },
  {
   "cell_type": "code",
   "execution_count": 7,
   "metadata": {},
   "outputs": [],
   "source": [
    "def get_season_info():\n",
    "    complete_df = pd.DataFrame(columns = ['year', 'team', 'team_name', 'division', 'G', 'W', 'L', 'ties', 'win_pct',\n",
    "                                          'p_win_pct', 'finish', 'gb', 'playoffs', 'R', 'RA', 'attendance', 'bat_age',\n",
    "                                          'pitch_age', 'num_bat', 'num_pitch', 'top_player', 'managers'])\n",
    "    for team in teams:\n",
    "        try:\n",
    "            df = pd.DataFrame(columns = ['year', 'team', 'team_name', 'division', 'G', 'W', 'L', 'ties', 'win_pct',\n",
    "                                         'p_win_pct', 'finish', 'gb', 'playoffs', 'R', 'RA', 'attendance', 'bat_age',\n",
    "                                         'pitch_age', 'num_bat', 'num_pitch', 'top_player', 'managers'])\n",
    "            html = requests.get('http://www.baseball-reference.com/teams/' + team + '/')\n",
    "            bs = BeautifulSoup(html.text, 'html.parser')\n",
    "            year = 2017\n",
    "            for season in bs.find('table', {'class':'sortable stats_table'}, {'id':'franchise_years'}).find_all('tr'):\n",
    "                results = []\n",
    "                for element in season.find_all('td'):        \n",
    "                    results.append(element.text)\n",
    "                if len(results) == 20:\n",
    "                    results.insert(0, team)\n",
    "                    results.insert(0, year)\n",
    "                    df.loc[len(df)] = results\n",
    "                    year -= 1\n",
    "            \n",
    "            # create one major df\n",
    "            complete_df = pd.concat([complete_df, df])\n",
    "\n",
    "            # sleep\n",
    "            sleep(1)\n",
    "        \n",
    "        except:\n",
    "            pass\n",
    "    \n",
    "    # filter df to 1990-2016\n",
    "    complete_df = complete_df[(complete_df.year >= 1990) & (complete_df.year <= 2016)]\n",
    "    \n",
    "    # drop duplicates\n",
    "    complete_df.drop_duplicates(inplace=True)\n",
    "\n",
    "    # encode team and playoffs columns\n",
    "    for col in ['team_name', 'playoffs', 'managers']:\n",
    "        complete_df[col] = complete_df[col].str.encode('utf-8').str.replace('\\xc2\\xa0', ' ')\n",
    "    \n",
    "    # save it to csv\n",
    "    complete_df.to_csv('../data/franchise-yearly-data.csv', index=False, encoding='utf-8')\n",
    "    \n",
    "    return complete_df"
   ]
  },
  {
   "cell_type": "code",
   "execution_count": 8,
   "metadata": {},
   "outputs": [
    {
     "name": "stdout",
     "output_type": "stream",
     "text": [
      "CPU times: user 16.9 s, sys: 218 ms, total: 17.1 s\n",
      "Wall time: 1min 3s\n"
     ]
    }
   ],
   "source": [
    "%time franchise = get_season_info()"
   ]
  },
  {
   "cell_type": "code",
   "execution_count": 9,
   "metadata": {},
   "outputs": [
    {
     "data": {
      "text/html": [
       "<div>\n",
       "<style>\n",
       "    .dataframe thead tr:only-child th {\n",
       "        text-align: right;\n",
       "    }\n",
       "\n",
       "    .dataframe thead th {\n",
       "        text-align: left;\n",
       "    }\n",
       "\n",
       "    .dataframe tbody tr th {\n",
       "        vertical-align: top;\n",
       "    }\n",
       "</style>\n",
       "<table border=\"1\" class=\"dataframe\">\n",
       "  <thead>\n",
       "    <tr style=\"text-align: right;\">\n",
       "      <th></th>\n",
       "      <th>year</th>\n",
       "      <th>team</th>\n",
       "      <th>team_name</th>\n",
       "      <th>division</th>\n",
       "      <th>G</th>\n",
       "      <th>W</th>\n",
       "      <th>L</th>\n",
       "      <th>ties</th>\n",
       "      <th>win_pct</th>\n",
       "      <th>p_win_pct</th>\n",
       "      <th>finish</th>\n",
       "      <th>gb</th>\n",
       "      <th>playoffs</th>\n",
       "      <th>R</th>\n",
       "      <th>RA</th>\n",
       "      <th>attendance</th>\n",
       "      <th>bat_age</th>\n",
       "      <th>pitch_age</th>\n",
       "      <th>num_bat</th>\n",
       "      <th>num_pitch</th>\n",
       "      <th>top_player</th>\n",
       "      <th>managers</th>\n",
       "    </tr>\n",
       "  </thead>\n",
       "  <tbody>\n",
       "    <tr>\n",
       "      <th>1</th>\n",
       "      <td>2016</td>\n",
       "      <td>ANA</td>\n",
       "      <td>Los Angeles Angels of Anaheim</td>\n",
       "      <td>AL West</td>\n",
       "      <td>162</td>\n",
       "      <td>74</td>\n",
       "      <td>88</td>\n",
       "      <td>0</td>\n",
       "      <td>.457</td>\n",
       "      <td>.494</td>\n",
       "      <td>4th of 5</td>\n",
       "      <td>21.0</td>\n",
       "      <td></td>\n",
       "      <td>717</td>\n",
       "      <td>727</td>\n",
       "      <td>3,016,142</td>\n",
       "      <td>28.5</td>\n",
       "      <td>28.4</td>\n",
       "      <td>53</td>\n",
       "      <td>30</td>\n",
       "      <td>M.Trout (10.4)</td>\n",
       "      <td>M.Scioscia (74-88)</td>\n",
       "    </tr>\n",
       "    <tr>\n",
       "      <th>2</th>\n",
       "      <td>2015</td>\n",
       "      <td>ANA</td>\n",
       "      <td>Los Angeles Angels of Anaheim</td>\n",
       "      <td>AL West</td>\n",
       "      <td>162</td>\n",
       "      <td>85</td>\n",
       "      <td>77</td>\n",
       "      <td>0</td>\n",
       "      <td>.525</td>\n",
       "      <td>.490</td>\n",
       "      <td>3rd of 5</td>\n",
       "      <td>3.0</td>\n",
       "      <td></td>\n",
       "      <td>661</td>\n",
       "      <td>675</td>\n",
       "      <td>3,012,765</td>\n",
       "      <td>28.6</td>\n",
       "      <td>28.3</td>\n",
       "      <td>51</td>\n",
       "      <td>24</td>\n",
       "      <td>M.Trout (9.3)</td>\n",
       "      <td>M.Scioscia (85-77)</td>\n",
       "    </tr>\n",
       "    <tr>\n",
       "      <th>3</th>\n",
       "      <td>2014</td>\n",
       "      <td>ANA</td>\n",
       "      <td>Los Angeles Angels of Anaheim</td>\n",
       "      <td>AL West</td>\n",
       "      <td>162</td>\n",
       "      <td>98</td>\n",
       "      <td>64</td>\n",
       "      <td>0</td>\n",
       "      <td>.605</td>\n",
       "      <td>.593</td>\n",
       "      <td>1st of 5</td>\n",
       "      <td>--</td>\n",
       "      <td>Lost LDS (3-0)</td>\n",
       "      <td>773</td>\n",
       "      <td>630</td>\n",
       "      <td>3,095,935</td>\n",
       "      <td>29.3</td>\n",
       "      <td>28.4</td>\n",
       "      <td>54</td>\n",
       "      <td>31</td>\n",
       "      <td>M.Trout (8.0)</td>\n",
       "      <td>M.Scioscia (98-64)</td>\n",
       "    </tr>\n",
       "    <tr>\n",
       "      <th>4</th>\n",
       "      <td>2013</td>\n",
       "      <td>ANA</td>\n",
       "      <td>Los Angeles Angels of Anaheim</td>\n",
       "      <td>AL West</td>\n",
       "      <td>162</td>\n",
       "      <td>78</td>\n",
       "      <td>84</td>\n",
       "      <td>0</td>\n",
       "      <td>.481</td>\n",
       "      <td>.498</td>\n",
       "      <td>3rd of 5</td>\n",
       "      <td>18.0</td>\n",
       "      <td></td>\n",
       "      <td>733</td>\n",
       "      <td>737</td>\n",
       "      <td>3,019,505</td>\n",
       "      <td>27.8</td>\n",
       "      <td>29.1</td>\n",
       "      <td>49</td>\n",
       "      <td>26</td>\n",
       "      <td>M.Trout (9.3)</td>\n",
       "      <td>M.Scioscia (78-84)</td>\n",
       "    </tr>\n",
       "    <tr>\n",
       "      <th>5</th>\n",
       "      <td>2012</td>\n",
       "      <td>ANA</td>\n",
       "      <td>Los Angeles Angels of Anaheim</td>\n",
       "      <td>AL West</td>\n",
       "      <td>162</td>\n",
       "      <td>89</td>\n",
       "      <td>73</td>\n",
       "      <td>0</td>\n",
       "      <td>.549</td>\n",
       "      <td>.542</td>\n",
       "      <td>3rd of 4</td>\n",
       "      <td>5.0</td>\n",
       "      <td></td>\n",
       "      <td>767</td>\n",
       "      <td>699</td>\n",
       "      <td>3,061,770</td>\n",
       "      <td>28.8</td>\n",
       "      <td>30.1</td>\n",
       "      <td>44</td>\n",
       "      <td>23</td>\n",
       "      <td>M.Trout (10.8)</td>\n",
       "      <td>M.Scioscia (89-73)</td>\n",
       "    </tr>\n",
       "  </tbody>\n",
       "</table>\n",
       "</div>"
      ],
      "text/plain": [
       "   year team                      team_name division    G   W   L ties  \\\n",
       "1  2016  ANA  Los Angeles Angels of Anaheim  AL West  162  74  88    0   \n",
       "2  2015  ANA  Los Angeles Angels of Anaheim  AL West  162  85  77    0   \n",
       "3  2014  ANA  Los Angeles Angels of Anaheim  AL West  162  98  64    0   \n",
       "4  2013  ANA  Los Angeles Angels of Anaheim  AL West  162  78  84    0   \n",
       "5  2012  ANA  Los Angeles Angels of Anaheim  AL West  162  89  73    0   \n",
       "\n",
       "  win_pct p_win_pct    finish    gb        playoffs    R   RA attendance  \\\n",
       "1    .457      .494  4th of 5  21.0                  717  727  3,016,142   \n",
       "2    .525      .490  3rd of 5   3.0                  661  675  3,012,765   \n",
       "3    .605      .593  1st of 5    --  Lost LDS (3-0)  773  630  3,095,935   \n",
       "4    .481      .498  3rd of 5  18.0                  733  737  3,019,505   \n",
       "5    .549      .542  3rd of 4   5.0                  767  699  3,061,770   \n",
       "\n",
       "  bat_age pitch_age num_bat num_pitch      top_player            managers  \n",
       "1    28.5      28.4      53        30  M.Trout (10.4)  M.Scioscia (74-88)  \n",
       "2    28.6      28.3      51        24   M.Trout (9.3)  M.Scioscia (85-77)  \n",
       "3    29.3      28.4      54        31   M.Trout (8.0)  M.Scioscia (98-64)  \n",
       "4    27.8      29.1      49        26   M.Trout (9.3)  M.Scioscia (78-84)  \n",
       "5    28.8      30.1      44        23  M.Trout (10.8)  M.Scioscia (89-73)  "
      ]
     },
     "execution_count": 9,
     "metadata": {},
     "output_type": "execute_result"
    }
   ],
   "source": [
    "franchise.head()"
   ]
  },
  {
   "cell_type": "code",
   "execution_count": 10,
   "metadata": {},
   "outputs": [
    {
     "data": {
      "text/plain": [
       "(885, 22)"
      ]
     },
     "execution_count": 10,
     "metadata": {},
     "output_type": "execute_result"
    }
   ],
   "source": [
    "franchise.shape"
   ]
  },
  {
   "cell_type": "code",
   "execution_count": 11,
   "metadata": {
    "scrolled": true
   },
   "outputs": [
    {
     "data": {
      "text/plain": [
       "array(['', 'Lost LDS (3-0)', 'Lost ALCS (4-2)', 'Lost LDS (3-1)',\n",
       "       'Lost ALCS (4-1)', 'Won WS (4-3)', 'Lost LDS (3-2)',\n",
       "       'Lost NLCS (4-0)', 'Lost NLWC (1-0)', 'Lost NLCS (4-1)',\n",
       "       'Lost WS (4-0)', 'Lost NLCS (4-2)', 'Lost WS (4-2)', 'Won WS (4-2)',\n",
       "       'Lost WS (4-3)', 'Lost ALWC (1-0)', 'Lost ALCS (4-0)',\n",
       "       'Lost ALCS (4-3)', 'Won WS (4-0)', 'Lost NLCS (4-3)',\n",
       "       'Lost WS (4-1)', 'Won WS (4-1)'], dtype=object)"
      ]
     },
     "execution_count": 11,
     "metadata": {},
     "output_type": "execute_result"
    }
   ],
   "source": [
    "franchise.playoffs.unique()"
   ]
  }
 ],
 "metadata": {
  "kernelspec": {
   "display_name": "Python 2",
   "language": "python",
   "name": "python2"
  },
  "language_info": {
   "codemirror_mode": {
    "name": "ipython",
    "version": 2
   },
   "file_extension": ".py",
   "mimetype": "text/x-python",
   "name": "python",
   "nbconvert_exporter": "python",
   "pygments_lexer": "ipython2",
   "version": "2.7.13"
  }
 },
 "nbformat": 4,
 "nbformat_minor": 2
}
